{
 "cells": [
  {
   "cell_type": "code",
   "execution_count": 1,
   "id": "controlling-illustration",
   "metadata": {},
   "outputs": [],
   "source": [
    "using AMQPClient"
   ]
  },
  {
   "cell_type": "markdown",
   "id": "industrial-workshop",
   "metadata": {},
   "source": [
    "## Connecting"
   ]
  },
  {
   "cell_type": "code",
   "execution_count": 2,
   "id": "oriented-exclusion",
   "metadata": {},
   "outputs": [
    {
     "data": {
      "text/plain": [
       "5672"
      ]
     },
     "execution_count": 2,
     "metadata": {},
     "output_type": "execute_result"
    }
   ],
   "source": [
    "AMQPClient.AMQP_DEFAULT_PORT"
   ]
  },
  {
   "cell_type": "code",
   "execution_count": 3,
   "id": "prompt-cannon",
   "metadata": {},
   "outputs": [
    {
     "data": {
      "text/plain": [
       "Dict{String,Any} with 3 entries:\n",
       "  \"MECHANISM\" => \"AMQPLAIN\"\n",
       "  \"PASSWORD\"  => \"guest\"\n",
       "  \"LOGIN\"     => \"guest\""
      ]
     },
     "execution_count": 3,
     "metadata": {},
     "output_type": "execute_result"
    }
   ],
   "source": [
    "AMQPClient.DEFAULT_AUTH_PARAMS"
   ]
  },
  {
   "cell_type": "code",
   "execution_count": 4,
   "id": "composed-screen",
   "metadata": {},
   "outputs": [
    {
     "name": "stderr",
     "output_type": "stream",
     "text": [
      "┌ Info: connected!\n",
      "└ @ Main In[4]:4\n"
     ]
    }
   ],
   "source": [
    "connection(virtualhost=\"/\",\n",
    "        host=\"localhost\", port=AMQPClient.AMQP_DEFAULT_PORT,\n",
    "        auth_params=AMQPClient.DEFAULT_AUTH_PARAMS) do conn\n",
    "    @info(\"connected!\")\n",
    "end"
   ]
  },
  {
   "cell_type": "markdown",
   "id": "intermediate-lunch",
   "metadata": {},
   "source": [
    "## Opening a Channel"
   ]
  },
  {
   "cell_type": "code",
   "execution_count": 5,
   "id": "nutritional-digest",
   "metadata": {},
   "outputs": [
    {
     "name": "stderr",
     "output_type": "stream",
     "text": [
      "┌ Info: channel opened\n",
      "└ @ Main In[5]:5\n",
      "┌ Info: channel closed\n",
      "└ @ Main In[5]:7\n"
     ]
    }
   ],
   "source": [
    "connection(virtualhost=\"/\",\n",
    "        host=\"localhost\", port=AMQPClient.AMQP_DEFAULT_PORT,\n",
    "        auth_params=AMQPClient.DEFAULT_AUTH_PARAMS) do conn\n",
    "    channel(conn, AMQPClient.UNUSED_CHANNEL, true) do chan\n",
    "        @info(\"channel opened\")\n",
    "    end\n",
    "    @info(\"channel closed\")\n",
    "end"
   ]
  },
  {
   "cell_type": "markdown",
   "id": "under-oklahoma",
   "metadata": {},
   "source": [
    "## Setting up Exchanges & Queues"
   ]
  },
  {
   "cell_type": "code",
   "execution_count": 6,
   "id": "recent-computer",
   "metadata": {},
   "outputs": [
    {
     "name": "stderr",
     "output_type": "stream",
     "text": [
      "┌ Info: declaring direct exchange named directexcg1\n",
      "└ @ Main In[6]:2\n",
      "┌ Info: declaring queue named queue1\n",
      "└ @ Main In[6]:5\n",
      "┌ Info: binding queue to receive messages with routing key attribute route1\n",
      "└ @ Main In[6]:9\n",
      "┌ Info: unbinding queue from exchange\n",
      "└ @ Main In[6]:14\n",
      "┌ Info: deleting queue\n",
      "└ @ Main In[6]:17\n",
      "┌ Info: deleting exchange\n",
      "└ @ Main In[6]:21\n"
     ]
    }
   ],
   "source": [
    "function prepare_queue(chan)\n",
    "    @info(\"declaring direct exchange named directexcg1\")\n",
    "    @assert exchange_declare(chan, \"directexcg1\", EXCHANGE_TYPE_DIRECT)\n",
    "\n",
    "    @info(\"declaring queue named queue1\")\n",
    "    success, q_name, message_count, consumer_count = queue_declare(chan, \"queue1\")\n",
    "    @assert success\n",
    "\n",
    "    @info(\"binding queue to receive messages with routing key attribute route1\")\n",
    "    @assert queue_bind(chan, \"queue1\", \"directexcg1\", \"route1\")\n",
    "end\n",
    "\n",
    "function teardown_queue(chan)\n",
    "    @info(\"unbinding queue from exchange\")\n",
    "    @assert queue_unbind(chan, \"queue1\", \"directexcg1\", \"route1\")\n",
    "\n",
    "    @info(\"deleting queue\")\n",
    "    success, message_count = queue_delete(chan, \"queue1\")\n",
    "    @assert success\n",
    "\n",
    "    @info(\"deleting exchange\")\n",
    "    @assert exchange_delete(chan, \"directexcg1\")\n",
    "end\n",
    "\n",
    "connection(; virtualhost=\"/\",\n",
    "        host=\"localhost\", port=AMQPClient.AMQP_DEFAULT_PORT,\n",
    "        auth_params=AMQPClient.DEFAULT_AUTH_PARAMS) do conn\n",
    "    channel(conn, AMQPClient.UNUSED_CHANNEL, true) do chan\n",
    "        prepare_queue(chan)\n",
    "        teardown_queue(chan)\n",
    "    end\n",
    "end"
   ]
  },
  {
   "cell_type": "markdown",
   "id": "annoying-signature",
   "metadata": {},
   "source": [
    "## Send and Receive Messages"
   ]
  },
  {
   "cell_type": "code",
   "execution_count": 7,
   "id": "aggregate-former",
   "metadata": {},
   "outputs": [
    {
     "name": "stderr",
     "output_type": "stream",
     "text": [
      "┌ Info: declaring direct exchange named directexcg1\n",
      "└ @ Main In[6]:2\n",
      "┌ Info: declaring queue named queue1\n",
      "└ @ Main In[6]:5\n",
      "┌ Info: binding queue to receive messages with routing key attribute route1\n",
      "└ @ Main In[6]:9\n",
      "┌ Info: publishing a message\n",
      "│   data = hello world\n",
      "└ @ Main In[7]:5\n",
      "┌ Info: got a message\n",
      "│   data = hello world\n",
      "└ @ Main In[7]:9\n",
      "┌ Info: unbinding queue from exchange\n",
      "└ @ Main In[6]:14\n",
      "┌ Info: deleting queue\n",
      "└ @ Main In[6]:17\n",
      "┌ Info: deleting exchange\n",
      "└ @ Main In[6]:21\n"
     ]
    }
   ],
   "source": [
    "function send_recv_message(chan)\n",
    "    data = convert(Vector{UInt8}, codeunits(\"hello world\"))\n",
    "    msg = Message(data, content_type=\"text/plain\", delivery_mode=PERSISTENT)\n",
    "\n",
    "    @info(\"publishing a message\", data=String(copy(msg.data)))\n",
    "    basic_publish(chan, msg; exchange=\"directexcg1\", routing_key=\"route1\")\n",
    "    msg = basic_get(chan, \"queue1\", false)\n",
    "    if msg !== nothing\n",
    "        @info(\"got a message\", data=String(copy(msg.data)))\n",
    "        basic_ack(chan, msg.delivery_tag)\n",
    "    end\n",
    "end\n",
    "\n",
    "connection(; virtualhost=\"/\",\n",
    "        host=\"localhost\", port=AMQPClient.AMQP_DEFAULT_PORT,\n",
    "        auth_params=AMQPClient.DEFAULT_AUTH_PARAMS) do conn\n",
    "    channel(conn, AMQPClient.UNUSED_CHANNEL, true) do chan\n",
    "        prepare_queue(chan)\n",
    "        send_recv_message(chan)\n",
    "        teardown_queue(chan)\n",
    "    end\n",
    "end"
   ]
  },
  {
   "cell_type": "markdown",
   "id": "little-handle",
   "metadata": {},
   "source": [
    "## Asynchronous Message Consumer"
   ]
  },
  {
   "cell_type": "code",
   "execution_count": 8,
   "id": "organized-review",
   "metadata": {},
   "outputs": [
    {
     "name": "stderr",
     "output_type": "stream",
     "text": [
      "┌ Info: declaring direct exchange named directexcg1\n",
      "└ @ Main In[6]:2\n",
      "┌ Info: declaring queue named queue1\n",
      "└ @ Main In[6]:5\n",
      "┌ Info: binding queue to receive messages with routing key attribute route1\n",
      "└ @ Main In[6]:9\n",
      "┌ Info: publishing a message\n",
      "│   data = hello world\n",
      "└ @ Main In[8]:12\n",
      "┌ Info: got a message\n",
      "│   data = hello world\n",
      "└ @ Main In[8]:4\n",
      "┌ Info: cancelling consumer\n",
      "└ @ Main In[8]:18\n",
      "┌ Info: unbinding queue from exchange\n",
      "└ @ Main In[6]:14\n",
      "┌ Info: deleting queue\n",
      "└ @ Main In[6]:17\n",
      "┌ Info: deleting exchange\n",
      "└ @ Main In[6]:21\n"
     ]
    }
   ],
   "source": [
    "function send_recv_messages2(chan)\n",
    "    received = false\n",
    "    success, consumer_tag = basic_consume(chan, \"queue1\", (msg)->begin\n",
    "        @info(\"got a message\", data=String(copy(msg.data)))\n",
    "        basic_ack(chan, msg.delivery_tag)\n",
    "        received = true\n",
    "    end)\n",
    "    @assert success\n",
    "\n",
    "    data = convert(Vector{UInt8}, codeunits(\"hello world\"))\n",
    "    msg = Message(data, content_type=\"text/plain\", delivery_mode=PERSISTENT)    \n",
    "    @info(\"publishing a message\", data=String(copy(msg.data)))\n",
    "    basic_publish(chan, msg; exchange=\"directexcg1\", routing_key=\"route1\")\n",
    "\n",
    "    while !received\n",
    "        sleep(1)\n",
    "    end\n",
    "    @info(\"cancelling consumer\")\n",
    "    basic_cancel(chan, consumer_tag)\n",
    "end\n",
    "\n",
    "connection(; virtualhost=\"/\",\n",
    "        host=\"localhost\", port=AMQPClient.AMQP_DEFAULT_PORT,\n",
    "        auth_params=AMQPClient.DEFAULT_AUTH_PARAMS) do conn\n",
    "    channel(conn, AMQPClient.UNUSED_CHANNEL, true) do chan\n",
    "        prepare_queue(chan)\n",
    "        send_recv_messages2(chan)\n",
    "        teardown_queue(chan)\n",
    "    end\n",
    "end"
   ]
  },
  {
   "cell_type": "code",
   "execution_count": null,
   "id": "advised-gateway",
   "metadata": {},
   "outputs": [],
   "source": []
  }
 ],
 "metadata": {
  "kernelspec": {
   "display_name": "Julia 1.5.2",
   "language": "julia",
   "name": "julia-1.5"
  },
  "language_info": {
   "file_extension": ".jl",
   "mimetype": "application/julia",
   "name": "julia",
   "version": "1.5.2"
  }
 },
 "nbformat": 4,
 "nbformat_minor": 5
}
