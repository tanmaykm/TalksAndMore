{
 "cells": [
  {
   "cell_type": "markdown",
   "metadata": {
    "slideshow": {
     "slide_type": "slide"
    }
   },
   "source": [
    "# Elly.jl\n",
    "### Use HDFS & Yarn from Julia\n",
    "\n",
    "_Tanmay Mohapatra (@tanmaykm)_\n",
    "\n",
    "_JuliaCon 2015, Bangalore_"
   ]
  },
  {
   "cell_type": "markdown",
   "metadata": {
    "slideshow": {
     "slide_type": "slide"
    }
   },
   "source": [
    "# Elly\n",
    "\n",
    "- Julia filesystem APIs for HDFS\n",
    "- Julia cluster manager interface for Yarn\n",
    "- Yarn/HDFS specific APIs where appropriate\n",
    "- Pure Julia\n",
    "    - easy to install\n",
    "    - Protocol buffers for communication (ProtoBuf.jl)\n",
    "- https://github.com/JuliaParallel/Elly.jl"
   ]
  },
  {
   "cell_type": "markdown",
   "metadata": {
    "slideshow": {
     "slide_type": "slide"
    }
   },
   "source": [
    "# HDFS with Elly"
   ]
  },
  {
   "cell_type": "markdown",
   "metadata": {
    "slideshow": {
     "slide_type": "slide"
    }
   },
   "source": [
    "## Connecting to HDFS\n",
    "- load package\n",
    "- create a HDFS client"
   ]
  },
  {
   "cell_type": "code",
   "execution_count": 13,
   "metadata": {
    "collapsed": false
   },
   "outputs": [
    {
     "name": "stdout",
     "output_type": "stream",
     "text": [
      "HDFSClient: tan@localhost:9000/"
     ]
    },
    {
     "data": {
      "text/plain": [
       "    pwd: /\n"
      ]
     },
     "execution_count": 13,
     "metadata": {},
     "output_type": "execute_result"
    },
    {
     "name": "stdout",
     "output_type": "stream",
     "text": [
      "\n",
      "    id: 058e072c-584e-4f\n",
      "    connected: false\n"
     ]
    }
   ],
   "source": [
    "using Elly\n",
    "\n",
    "# client connection to namenode\n",
    "dfs = HDFSClient(\"localhost\", 9000)"
   ]
  },
  {
   "cell_type": "markdown",
   "metadata": {
    "slideshow": {
     "slide_type": "slide"
    }
   },
   "source": [
    "## Navigating the filesystem"
   ]
  },
  {
   "cell_type": "code",
   "execution_count": 14,
   "metadata": {
    "collapsed": false
   },
   "outputs": [
    {
     "data": {
      "text/plain": [
       "\"/\""
      ]
     },
     "execution_count": 14,
     "metadata": {},
     "output_type": "execute_result"
    }
   ],
   "source": [
    "pwd(dfs)"
   ]
  },
  {
   "cell_type": "code",
   "execution_count": 15,
   "metadata": {
    "collapsed": false
   },
   "outputs": [
    {
     "data": {
      "text/plain": [
       "15-element Array{AbstractString,1}:\n",
       " \"colsuminp.csv\"    \n",
       " \"maxvalinp.csv\"    \n",
       " \"sort\"             \n",
       " \"sorted\"           \n",
       " \"sortinp\"          \n",
       " \"sortout\"          \n",
       " \"sortsamp\"         \n",
       " \"sortval\"          \n",
       " \"tan_data\"         \n",
       " \"test\"             \n",
       " \"testdir\"          \n",
       " \"testfile.txt\"     \n",
       " \"tmp\"              \n",
       " \"twitter_small.csv\"\n",
       " \"user\"             "
      ]
     },
     "execution_count": 15,
     "metadata": {},
     "output_type": "execute_result"
    }
   ],
   "source": [
    "readdir(dfs)"
   ]
  },
  {
   "cell_type": "code",
   "execution_count": 16,
   "metadata": {
    "collapsed": false
   },
   "outputs": [
    {
     "data": {
      "text/plain": [
       "\"/tmp\""
      ]
     },
     "execution_count": 16,
     "metadata": {},
     "output_type": "execute_result"
    }
   ],
   "source": [
    "cd(dfs, \"tmp\")"
   ]
  },
  {
   "cell_type": "code",
   "execution_count": 17,
   "metadata": {
    "collapsed": false
   },
   "outputs": [
    {
     "data": {
      "text/plain": [
       "true"
      ]
     },
     "execution_count": 17,
     "metadata": {},
     "output_type": "execute_result"
    }
   ],
   "source": [
    "mkdir(dfs, \"foo\")"
   ]
  },
  {
   "cell_type": "code",
   "execution_count": 18,
   "metadata": {
    "collapsed": false
   },
   "outputs": [
    {
     "data": {
      "text/plain": [
       "\"/tmp/foo\""
      ]
     },
     "execution_count": 18,
     "metadata": {},
     "output_type": "execute_result"
    }
   ],
   "source": [
    "cd(dfs, \"foo\")"
   ]
  },
  {
   "cell_type": "markdown",
   "metadata": {
    "slideshow": {
     "slide_type": "slide"
    }
   },
   "source": [
    "## Files"
   ]
  },
  {
   "cell_type": "code",
   "execution_count": 19,
   "metadata": {
    "collapsed": false
   },
   "outputs": [
    {
     "data": {
      "text/plain": [
       "HDFSFileInfo: /user/tan/t.avi\n",
       "    type: file\n",
       "    size: 2449213436\n",
       "    block_sz: 134217728\n",
       "    owner: tan\n",
       "    group: supergroup\n"
      ]
     },
     "execution_count": 19,
     "metadata": {},
     "output_type": "execute_result"
    }
   ],
   "source": [
    "stat(dfs, \"/user/tan/t.avi\")"
   ]
  },
  {
   "cell_type": "code",
   "execution_count": 20,
   "metadata": {
    "collapsed": false
   },
   "outputs": [
    {
     "data": {
      "text/plain": [
       "19-element Array{Tuple{UInt64,Array{T,N}},1}:\n",
       " (0x0000000000000000,AbstractString[\"127.0.0.1\"])\n",
       " (0x0000000008000000,AbstractString[\"127.0.0.1\"])\n",
       " (0x0000000010000000,AbstractString[\"127.0.0.1\"])\n",
       " (0x0000000018000000,AbstractString[\"127.0.0.1\"])\n",
       " (0x0000000020000000,AbstractString[\"127.0.0.1\"])\n",
       " (0x0000000028000000,AbstractString[\"127.0.0.1\"])\n",
       " (0x0000000030000000,AbstractString[\"127.0.0.1\"])\n",
       " (0x0000000038000000,AbstractString[\"127.0.0.1\"])\n",
       " (0x0000000040000000,AbstractString[\"127.0.0.1\"])\n",
       " (0x0000000048000000,AbstractString[\"127.0.0.1\"])\n",
       " (0x0000000050000000,AbstractString[\"127.0.0.1\"])\n",
       " (0x0000000058000000,AbstractString[\"127.0.0.1\"])\n",
       " (0x0000000060000000,AbstractString[\"127.0.0.1\"])\n",
       " (0x0000000068000000,AbstractString[\"127.0.0.1\"])\n",
       " (0x0000000070000000,AbstractString[\"127.0.0.1\"])\n",
       " (0x0000000078000000,AbstractString[\"127.0.0.1\"])\n",
       " (0x0000000080000000,AbstractString[\"127.0.0.1\"])\n",
       " (0x0000000088000000,AbstractString[\"127.0.0.1\"])\n",
       " (0x0000000090000000,AbstractString[\"127.0.0.1\"])"
      ]
     },
     "execution_count": 20,
     "metadata": {},
     "output_type": "execute_result"
    }
   ],
   "source": [
    "hdfs_blocks(dfs, \"/user/tan/t.avi\")"
   ]
  },
  {
   "cell_type": "markdown",
   "metadata": {
    "slideshow": {
     "slide_type": "slide"
    }
   },
   "source": [
    "## File IO\n",
    "- HDFSFile to refer to a file object\n",
    "- open an HDFSFile to get a IOStream"
   ]
  },
  {
   "cell_type": "code",
   "execution_count": 21,
   "metadata": {
    "collapsed": false
   },
   "outputs": [
    {
     "data": {
      "text/plain": [
       "HDFSFile: hdfs://tan@localhost:9000/tmp/foo/baz.txt\n"
      ]
     },
     "execution_count": 21,
     "metadata": {},
     "output_type": "execute_result"
    }
   ],
   "source": [
    "baz_file = HDFSFile(dfs, \"baz.txt\")"
   ]
  },
  {
   "cell_type": "code",
   "execution_count": 22,
   "metadata": {
    "collapsed": false
   },
   "outputs": [
    {
     "data": {
      "text/plain": [
       "11"
      ]
     },
     "execution_count": 22,
     "metadata": {},
     "output_type": "execute_result"
    }
   ],
   "source": [
    "open(baz_file, \"w\") do f\n",
    "    write(f, b\"hello world\")\n",
    "end"
   ]
  },
  {
   "cell_type": "code",
   "execution_count": 23,
   "metadata": {
    "collapsed": false
   },
   "outputs": [
    {
     "name": "stdout",
     "output_type": "stream",
     "text": [
      "hello world\n"
     ]
    }
   ],
   "source": [
    "open(baz_file, \"r\") do f\n",
    "    bytes = Array(UInt8, filesize(f))\n",
    "    read!(f, bytes)\n",
    "    println(bytestring(bytes))\n",
    "end"
   ]
  },
  {
   "cell_type": "code",
   "execution_count": 24,
   "metadata": {
    "collapsed": false
   },
   "outputs": [
    {
     "data": {
      "text/plain": [
       "true"
      ]
     },
     "execution_count": 24,
     "metadata": {},
     "output_type": "execute_result"
    }
   ],
   "source": [
    "cd(dfs, \"/\")\n",
    "rm(dfs, \"/tmp/foo\", true)"
   ]
  },
  {
   "cell_type": "markdown",
   "metadata": {
    "slideshow": {
     "slide_type": "slide"
    }
   },
   "source": [
    "# Yarn with Elly"
   ]
  },
  {
   "cell_type": "markdown",
   "metadata": {
    "slideshow": {
     "slide_type": "slide"
    }
   },
   "source": [
    "## Cluster Manager for Yarn"
   ]
  },
  {
   "cell_type": "code",
   "execution_count": 26,
   "metadata": {
    "collapsed": false
   },
   "outputs": [
    {
     "data": {
      "text/plain": [
       "YarnManager for YarnClient: tan@localhost:8032/\n",
       "    id: f3a1cbb0-c2cb-46\n",
       "    connected: true\n"
      ]
     },
     "execution_count": 26,
     "metadata": {},
     "output_type": "execute_result"
    }
   ],
   "source": [
    "yarncm = YarnManager(yarnhost=\"localhost\")"
   ]
  },
  {
   "cell_type": "code",
   "execution_count": 27,
   "metadata": {
    "collapsed": false
   },
   "outputs": [
    {
     "name": "stdout",
     "output_type": "stream",
     "text": [
      "1\n",
      "\tFrom worker 2:\t2\n"
     ]
    }
   ],
   "source": [
    "addprocs(yarncm; np=1, env=Dict(\"JULIA_PKGDIR\"=>Pkg.dir()));\n",
    "@everywhere println(myid())"
   ]
  },
  {
   "cell_type": "code",
   "execution_count": 28,
   "metadata": {
    "collapsed": false
   },
   "outputs": [
    {
     "data": {
      "text/plain": [
       "true"
      ]
     },
     "execution_count": 28,
     "metadata": {},
     "output_type": "execute_result"
    }
   ],
   "source": [
    "rmprocs(workers())\n",
    "Elly.disconnect(yarncm)"
   ]
  },
  {
   "cell_type": "markdown",
   "metadata": {
    "slideshow": {
     "slide_type": "slide"
    }
   },
   "source": [
    "## Native Julia Yarn Application\n",
    "\n",
    "- powerful\n",
    "    - fine grained and dynamic resource allocation\n",
    "    - optimize cluster resources\n",
    "- but... lot of boilerplate code, complex"
   ]
  },
  {
   "cell_type": "markdown",
   "metadata": {
    "slideshow": {
     "slide_type": "slide"
    }
   },
   "source": [
    "## Connecting to Yarn"
   ]
  },
  {
   "cell_type": "code",
   "execution_count": 29,
   "metadata": {
    "collapsed": false
   },
   "outputs": [
    {
     "data": {
      "text/plain": [
       "1"
      ]
     },
     "execution_count": 29,
     "metadata": {},
     "output_type": "execute_result"
    }
   ],
   "source": [
    "ugi = UserGroupInformation()\n",
    "\n",
    "# connect to resource manager\n",
    "yarnclnt = YarnClient(\"localhost\", 8032, ugi)\n",
    "nnodes = nodecount(yarnclnt)"
   ]
  },
  {
   "cell_type": "code",
   "execution_count": 30,
   "metadata": {
    "collapsed": false
   },
   "outputs": [
    {
     "data": {
      "text/plain": [
       "YarnNodes: 1 (connected to 0)\n",
       "YarnNode: /default-rack/tanlt:58465 running, Used mem: 0/8192, cores: 0/8\n"
      ]
     },
     "execution_count": 30,
     "metadata": {},
     "output_type": "execute_result"
    }
   ],
   "source": [
    "nlist = Elly.nodes(yarnclnt)"
   ]
  },
  {
   "cell_type": "code",
   "execution_count": 31,
   "metadata": {
    "collapsed": false,
    "slideshow": {
     "slide_type": "slide"
    }
   },
   "outputs": [],
   "source": [
    "yarnam = YarnAppMaster(\"localhost\", 8030, ugi)\n",
    "function on_alloc(cid)\n",
    "    # probably start container process here\n",
    "    println(\"allocated $cid\")\n",
    "end\n",
    "function on_finish(cid)\n",
    "    # release the container or start a new process here\n",
    "    println(\"finished $cid\")\n",
    "end\n",
    "callback(yarnam, Nullable(on_alloc), Nullable(on_finish))"
   ]
  },
  {
   "cell_type": "code",
   "execution_count": 32,
   "metadata": {
    "collapsed": false
   },
   "outputs": [
    {
     "data": {
      "text/plain": [
       "YarnApp YARN (EllyApp/2): accepted-0.0\n",
       "    location: tan@N/A:0/default\n"
      ]
     },
     "execution_count": 32,
     "metadata": {},
     "output_type": "execute_result"
    }
   ],
   "source": [
    "yarnapp = submit(yarnclnt, yarnam)"
   ]
  },
  {
   "cell_type": "markdown",
   "metadata": {
    "slideshow": {
     "slide_type": "slide"
    }
   },
   "source": [
    "- request containers for the application"
   ]
  },
  {
   "cell_type": "code",
   "execution_count": 33,
   "metadata": {
    "collapsed": false,
    "slideshow": {
     "slide_type": "-"
    }
   },
   "outputs": [
    {
     "name": "stdout",
     "output_type": "stream",
     "text": [
      "allocated Elly.hadoop.yarn.ContainerIdProto(#undef,Elly.hadoop.yarn.ApplicationAttemptIdProto(Elly.hadoop.yarn.ApplicationIdProto(2,1444374287227),1),1)\n"
     ]
    }
   ],
   "source": [
    "container_allocate(yarnam, 1)"
   ]
  },
  {
   "cell_type": "markdown",
   "metadata": {},
   "source": [
    "- use allocated container to launch applications\n",
    "- stop and release containers when done\n",
    "- finally unregister the application"
   ]
  },
  {
   "cell_type": "code",
   "execution_count": 34,
   "metadata": {
    "collapsed": false
   },
   "outputs": [
    {
     "data": {
      "text/plain": [
       "true"
      ]
     },
     "execution_count": 34,
     "metadata": {},
     "output_type": "execute_result"
    }
   ],
   "source": [
    "unregister(yarnam, true)"
   ]
  },
  {
   "cell_type": "markdown",
   "metadata": {
    "slideshow": {
     "slide_type": "slide"
    }
   },
   "source": [
    "# End\n",
    "\n",
    "_Next: processing large files on HDFS/Yarn_\n",
    "\n",
    "<https://github.com/tanmaykm/TwitterLinks.jl>"
   ]
  }
 ],
 "metadata": {
  "celltoolbar": "Slideshow",
  "kernelspec": {
   "display_name": "Julia 0.4.0",
   "language": "julia",
   "name": "julia-0.4"
  },
  "language_info": {
   "file_extension": ".jl",
   "mimetype": "application/julia",
   "name": "julia",
   "version": "0.4.0"
  }
 },
 "nbformat": 4,
 "nbformat_minor": 0
}
