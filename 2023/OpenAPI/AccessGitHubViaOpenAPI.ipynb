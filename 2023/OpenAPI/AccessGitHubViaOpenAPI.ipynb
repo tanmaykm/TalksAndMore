{
 "cells": [
  {
   "cell_type": "markdown",
   "id": "6af9918c-43eb-4346-bfe1-e55b1c95b6b9",
   "metadata": {},
   "source": [
    "# Access GitHub via OpenAPI\n",
    "\n",
    "In this notebook we shall attempt to access GitHub via their OpenAPI interface.\n",
    "\n",
    "Steps:\n",
    "1. Fetch GitHub OpenAPI specification\n",
    "2. Examine the specification\n",
    "3. Generate a Julia client package using that\n",
    "4. Examine the generated code\n",
    "5. Examine the generated docs\n",
    "6. Use it!"
   ]
  },
  {
   "cell_type": "code",
   "execution_count": null,
   "id": "4d65ca8d-c3ba-4487-a168-5f43155e8cf7",
   "metadata": {
    "tags": []
   },
   "outputs": [],
   "source": [
    "# Clean up before starting\n",
    "rm(\"GitHubClient\"; force=true, recursive=true)\n",
    "# Add required packages\n",
    "# Pkg.add(\"OpenAPI\")"
   ]
  },
  {
   "cell_type": "code",
   "execution_count": null,
   "id": "b06b3b41-6012-4251-8cc4-e0bfbb2d38f2",
   "metadata": {
    "tags": []
   },
   "outputs": [],
   "source": [
    "using Downloads, OpenAPI"
   ]
  },
  {
   "cell_type": "markdown",
   "id": "fa1666c2-f6dd-4fd7-82d2-c9129070a675",
   "metadata": {},
   "source": [
    "## Fetch the specification\n",
    "\n",
    "GitHub makes available their OpenAPI specification at:\n",
    "https://github.com/github/rest-api-description"
   ]
  },
  {
   "cell_type": "code",
   "execution_count": null,
   "id": "fa39b3ad-c502-474d-abf9-8e6089d9fc30",
   "metadata": {
    "tags": []
   },
   "outputs": [],
   "source": [
    "spec_file = \"specifications/api.github.com.json\" \n",
    "spec_source = \"https://raw.githubusercontent.com/github/rest-api-description/main/descriptions/api.github.com/api.github.com.json\"\n",
    "\n",
    "if !isfile(spec_file)\n",
    "    Downloads.download(spec_source, spec_file)\n",
    "end"
   ]
  },
  {
   "cell_type": "markdown",
   "id": "541d71c4-f36e-43a8-9e1f-6a34f4962d76",
   "metadata": {},
   "source": [
    "## Examine the specification\n",
    "\n",
    "We can examine the API specifications\n",
    "- Either by opening the JSON specification directly\n",
    "- Or by opening it in some tool, e.g. the Swagger UI\n",
    "\n",
    "The Swagger UI tool can be invoked using the OpenAPI package. It uses docker to launch the Swagger tools container, which provides the UI."
   ]
  },
  {
   "cell_type": "code",
   "execution_count": null,
   "id": "14ac57f3-cd1d-47b8-9eb5-83ec63035707",
   "metadata": {
    "tags": []
   },
   "outputs": [],
   "source": [
    "# Examine API specifications\n",
    "OpenAPI.swagger_ui(\"specifications/api.github.com.json\")"
   ]
  },
  {
   "cell_type": "markdown",
   "id": "25443930-465b-4795-9c55-2e6afc190cce",
   "metadata": {},
   "source": [
    "## Code generation\n",
    "\n",
    "Use openapi-generator to generate the Julia package.\n",
    "It is available bundled in a convenient docker image,\n",
    "which lets us use it without having to install anything."
   ]
  },
  {
   "cell_type": "code",
   "execution_count": null,
   "id": "19c712d8-724d-4441-b1cb-8da9c2feddf9",
   "metadata": {
    "tags": []
   },
   "outputs": [],
   "source": [
    "generator_script = joinpath(pwd(), \"generate_github.sh\")\n",
    "run(`$generator_script`);"
   ]
  },
  {
   "cell_type": "markdown",
   "id": "0974077e-2d37-4825-8a14-7f352afc199d",
   "metadata": {},
   "source": [
    "## Examine the generated code\n",
    "\n",
    "The code is generated as a Julia module.\n",
    "The module can be embedded into another package.\n",
    "\n",
    "Or it can also be registered directly as a Julia package on its own. Just need to add Project.toml.\n",
    "\n",
    "README.md contains docs for all APIs."
   ]
  },
  {
   "cell_type": "code",
   "execution_count": null,
   "id": "4f7b0cce-cfd3-448c-a879-57696e8469c8",
   "metadata": {},
   "outputs": [],
   "source": [
    "run(`ls -la GitHubClient`);"
   ]
  },
  {
   "cell_type": "code",
   "execution_count": null,
   "id": "2e93cc96-93c8-47d6-98cf-330bdd7a883d",
   "metadata": {},
   "outputs": [],
   "source": [
    "run(`ls -la GitHubClient/src`);"
   ]
  },
  {
   "cell_type": "markdown",
   "id": "69f88e4c-7457-495f-b666-df261294fe29",
   "metadata": {
    "tags": []
   },
   "source": [
    "## Use Generated Package to Invoke APIs\n",
    "\n",
    "The APIs can be invoked just like Julia methods.\n",
    "All the HTTP/REST communication and serialization and deserialization are handled transparently."
   ]
  },
  {
   "cell_type": "code",
   "execution_count": null,
   "id": "c13edc42-1b2e-4bd2-aaf6-2722070c4305",
   "metadata": {
    "tags": []
   },
   "outputs": [],
   "source": [
    "include(\"GitHubClient/src/GitHubClient.jl\")\n",
    "using .GitHubClient"
   ]
  },
  {
   "cell_type": "code",
   "execution_count": null,
   "id": "f7ef5e26-370b-460a-9eaf-a58bcd8a891b",
   "metadata": {
    "tags": []
   },
   "outputs": [],
   "source": [
    "# Create a client for the API group which has the API of interest\n",
    "client = OpenAPI.Clients.Client(GitHubClient.basepath(GitHubClient.ReposApi));\n",
    "reposapi = GitHubClient.ReposApi(client);"
   ]
  },
  {
   "cell_type": "code",
   "execution_count": null,
   "id": "da91fc0b-0772-4cd0-8043-7b2d84a83647",
   "metadata": {
    "tags": []
   },
   "outputs": [],
   "source": [
    "# Invoke APIs as regular Julia methods\n",
    "# API responds with the results converted to a Julia type\n",
    "# It also returns the raw HTTP response as the second return value, for advanced use\n",
    "julia_repo, _api_resp = GitHubClient.repos_get(reposapi, \"julialang\", \"julia\")\n",
    "\n",
    "julia_repo"
   ]
  },
  {
   "cell_type": "code",
   "execution_count": null,
   "id": "1ebb52ad-9d0c-4b7a-a649-5805b26d77fc",
   "metadata": {
    "tags": []
   },
   "outputs": [],
   "source": [
    "# The return value is made available as a Julia struct\n",
    "\n",
    "println(\"The \", julia_repo.name, \" repo has \", julia_repo.stargazers_count, \" stars!\")"
   ]
  },
  {
   "cell_type": "code",
   "execution_count": null,
   "id": "7c242da0-3a61-4d49-99ca-9f373035f8e3",
   "metadata": {
    "tags": []
   },
   "outputs": [],
   "source": [
    "# Clean up before closing\n",
    "\n",
    "rm(\"GitHubClient\"; force=true, recursive=true)\n",
    "OpenAPI.stop_swagger();"
   ]
  },
  {
   "cell_type": "code",
   "execution_count": null,
   "id": "0e958a46-564d-4179-8e64-796c0cc57890",
   "metadata": {},
   "outputs": [],
   "source": []
  }
 ],
 "metadata": {
  "kernelspec": {
   "display_name": "Julia 1.7.3",
   "language": "julia",
   "name": "julia-1.7"
  },
  "language_info": {
   "file_extension": ".jl",
   "mimetype": "application/julia",
   "name": "julia",
   "version": "1.7.3"
  }
 },
 "nbformat": 4,
 "nbformat_minor": 5
}
