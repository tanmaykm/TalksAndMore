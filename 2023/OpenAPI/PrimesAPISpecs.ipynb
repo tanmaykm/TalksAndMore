{
 "cells": [
  {
   "cell_type": "markdown",
   "id": "d213a27d-0c83-4b84-9ed0-0fb51b8ca565",
   "metadata": {},
   "source": [
    "# Create OpenAPI Specification for a Demo Prime Number Service\n",
    "\n",
    "What we shall attempt here is to create a web service that can generate a list of prime numbers.\n",
    "We shall use the \"Primes\" package to do that."
   ]
  },
  {
   "cell_type": "code",
   "execution_count": null,
   "id": "415e3692-cd08-46fb-8961-c931cb55be19",
   "metadata": {
    "tags": []
   },
   "outputs": [],
   "source": [
    "using OpenAPI"
   ]
  },
  {
   "cell_type": "code",
   "execution_count": null,
   "id": "00625f60-c35b-48ef-997a-6e8917856ead",
   "metadata": {
    "tags": []
   },
   "outputs": [],
   "source": [
    "# Clean up before starting\n",
    "rm(\"PrimesClient\"; force=true, recursive=true)\n",
    "rm(\"PrimesServer\"; force=true, recursive=true)"
   ]
  },
  {
   "cell_type": "markdown",
   "id": "e733ee25-e745-4d8b-83f7-1bc73c37ad7f",
   "metadata": {},
   "source": [
    "API specification is a JSON/YAML file. So it can be edited with any editor.\n",
    "\n",
    "There are many API editing tools available to assist. The OpenAPI.jl package has an in-built method to invoke the Swagger editor tool."
   ]
  },
  {
   "cell_type": "code",
   "execution_count": null,
   "id": "d3b72010-5a7c-4705-96c3-8d2141d40d02",
   "metadata": {
    "tags": []
   },
   "outputs": [],
   "source": [
    "OpenAPI.swagger_editor(\"specifications/primes.json\")"
   ]
  },
  {
   "cell_type": "code",
   "execution_count": null,
   "id": "44942ae6-ded1-4dc9-a2ce-60b893ef65c4",
   "metadata": {
    "tags": []
   },
   "outputs": [],
   "source": [
    "OpenAPI.stop_swagger()"
   ]
  },
  {
   "cell_type": "code",
   "execution_count": null,
   "id": "feba2021-4cf1-48a3-98a6-56fb2f8a9569",
   "metadata": {
    "tags": []
   },
   "outputs": [],
   "source": [
    "# Generate a Julia package from API specifications\n",
    "\n",
    "generator_script = joinpath(pwd(), \"generate_primes.sh\")\n",
    "run(`$generator_script`)"
   ]
  },
  {
   "cell_type": "code",
   "execution_count": null,
   "id": "b77899ab-a702-4cd1-b45a-560394471e9f",
   "metadata": {},
   "outputs": [],
   "source": []
  }
 ],
 "metadata": {
  "kernelspec": {
   "display_name": "Julia 1.7.3",
   "language": "julia",
   "name": "julia-1.7"
  },
  "language_info": {
   "file_extension": ".jl",
   "mimetype": "application/julia",
   "name": "julia",
   "version": "1.7.3"
  }
 },
 "nbformat": 4,
 "nbformat_minor": 5
}
