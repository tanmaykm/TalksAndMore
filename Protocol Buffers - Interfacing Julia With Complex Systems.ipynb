{
 "cells": [
  {
   "cell_type": "markdown",
   "metadata": {
    "slideshow": {
     "slide_type": "slide"
    }
   },
   "source": [
    "#Protocol Buffers - Interfacing Julia with complex systems"
   ]
  },
  {
   "cell_type": "markdown",
   "metadata": {
    "slideshow": {
     "slide_type": "slide"
    }
   },
   "source": [
    "# What is a large/complex system?\n",
    "\n",
    "Large applications often have:\n",
    "- Multiple interacting components\n",
    "- Interfaces to other applications\n",
    "- Heterogeneous environments\n",
    "- Separate development/deployment cycles\n",
    "- Continuous availability requirement"
   ]
  },
  {
   "cell_type": "markdown",
   "metadata": {
    "collapsed": true,
    "slideshow": {
     "slide_type": "slide"
    }
   },
   "source": [
    "<img src=\"AppComplexity.png\"/>\n",
    "\n",
    "\n",
    "###*Large applications are often more complex than this"
   ]
  },
  {
   "cell_type": "markdown",
   "metadata": {
    "slideshow": {
     "slide_type": "slide"
    }
   },
   "source": [
    "Important to:\n",
    "- define interfaces clearly\n",
    "- handle changes\n",
    "- interoperate within a heterogeneous environment\n",
    "\n",
    "Without introducing a lot of inefficiency & complexity.\n",
    "\n",
    "Protocol Buffers let us do much of that."
   ]
  },
  {
   "cell_type": "markdown",
   "metadata": {
    "slideshow": {
     "slide_type": "slide"
    }
   },
   "source": [
    "# Protocol Buffers\n",
    "\n",
    "- A data exchange (serialization) format\n",
    "- Open-sourced by Google. (https://developers.google.com/protocol-buffers/)\n",
    "\n",
    "Think XML, but smaller, faster, and simpler.\n",
    "\n",
    "- Structured & Extensible\n",
    "- Language / Platform Neutral\n",
    "- Compact"
   ]
  },
  {
   "cell_type": "markdown",
   "metadata": {
    "slideshow": {
     "slide_type": "slide"
    }
   },
   "source": [
    "## Large applications using ProtoBuf:\n",
    "- Used internally at Google\n",
    "- Much of the Hadoop ecosystem:\n",
    "    - HDFS & Yarn\n",
    "    - HBase\n",
    "    - Parquet\n",
    "- Search reveals many others\n",
    "- Used for both:\n",
    "    - data transmission\n",
    "    - storage format\n",
    "\n",
    "\n",
    "## Julia apps using ProtoBuf:\n",
    "- Elly.jl (https://github.com/JuliaParallel/Elly.jl) - a HDFS and Yarn interface"
   ]
  },
  {
   "cell_type": "markdown",
   "metadata": {
    "slideshow": {
     "slide_type": "slide"
    }
   },
   "source": [
    "# ProtoBuf.jl - A Julia implementation\n",
    "- https://github.com/tanmaykm/ProtoBuf.jl\n",
    "- .proto to .jl code generator\n",
    "- serialization/deserialization\n",
    "\n",
    "Getting it:\n",
    "- Pkg.add(\"ProtoBuf\")\n",
    "- Install protoc from https://github.com/google/protobuf"
   ]
  },
  {
   "cell_type": "code",
   "execution_count": 5,
   "metadata": {
    "collapsed": true
   },
   "outputs": [],
   "source": [
    "using ProtoBuf"
   ]
  },
  {
   "cell_type": "markdown",
   "metadata": {
    "slideshow": {
     "slide_type": "slide"
    }
   },
   "source": [
    "# Exploring - Message Structure\n",
    "- Message is a set of fields\n",
    "    - Typed (determines wire format)\n",
    "    - Tagged (indicates sequence, presence)\n",
    "    - Have rules (required/optional/repeated/packed)\n",
    "\n",
    "Allows validation of:\n",
    "- field data types\n",
    "- presence of required fields"
   ]
  },
  {
   "cell_type": "code",
   "execution_count": 6,
   "metadata": {
    "collapsed": false,
    "slideshow": {
     "slide_type": "slide"
    }
   },
   "outputs": [],
   "source": [
    "protodef = \"\"\"\n",
    "package stocks;                 // Contain these in the stocks namespace\n",
    "\n",
    "message Quote{                  // Stock quote has...\n",
    "    required string symbol = 1; // the stock symbol\n",
    "    required double price = 2;   // and it's price\n",
    "}\n",
    "\n",
    "message Portfolio{              // A portfolio can have...\n",
    "    repeated Quote quote = 1;   // a list of quotes\n",
    "    required int32 count = 2;   // number of quotes in portfolio\n",
    "}\n",
    "\"\"\"\n",
    "\n",
    "run(`mkdir -p /tmp/proto`)\n",
    "\n",
    "open(\"/tmp/proto/stocks.proto\", \"w\") do f\n",
    "    write(f, protodef)\n",
    "end;"
   ]
  },
  {
   "cell_type": "code",
   "execution_count": 8,
   "metadata": {
    "collapsed": false,
    "slideshow": {
     "slide_type": "slide"
    }
   },
   "outputs": [
    {
     "name": "stdout",
     "output_type": "stream",
     "text": [
      "=================================\n",
      "Field Type           Julia Type\n",
      "=================================\n",
      "      enum                Int32\n",
      "    uint64               Uint64\n",
      "   fixed64               Uint64\n",
      "    sint32                Int32\n",
      "       obj                  Any\n",
      "    string               String\n",
      "    sint64                Int64\n",
      "     int64                Int64\n",
      "  sfixed64                Int64\n",
      "  sfixed32                Int32\n",
      "      bool                 Bool\n",
      "    uint32               Uint32\n",
      "   fixed32               Uint32\n",
      "     bytes       Array{Uint8,1}\n",
      "     int32                Int32\n",
      "    double              Float64\n",
      "     float              Float32\n"
     ]
    }
   ],
   "source": [
    "@printf(\"%s\\n%10s %20s\\n%s\\n\", \"=\"^33, \"Field Type\", \"Julia Type\", \"=\"^33)\n",
    "for (k,v) in ProtoBuf.WIRETYPES\n",
    "    @printf(\"%10s %20s\\n\", k, v[4])\n",
    "end"
   ]
  },
  {
   "cell_type": "markdown",
   "metadata": {
    "slideshow": {
     "slide_type": "slide"
    }
   },
   "source": [
    "#Exploring - Language &amp; Platform Neutrality\n",
    "\n",
    "- Java, Python, C++ supported by default\n",
    "- Many others (including Julia) through [3rd party add-ons](https://github.com/google/protobuf/wiki/Third-Party-Add-ons)\n",
    "- Add-ons for about 30 different languages"
   ]
  },
  {
   "cell_type": "code",
   "execution_count": 6,
   "metadata": {
    "collapsed": false,
    "slideshow": {
     "slide_type": "slide"
    }
   },
   "outputs": [],
   "source": [
    "run(`mkdir -p /tmp/proto/py`)\n",
    "run(`mkdir -p /tmp/proto/jl`)\n",
    "run(`protoc --proto_path=/tmp/proto --python_out=/tmp/proto/py /tmp/proto/stocks.proto`)\n",
    "run(`protoc --proto_path=/tmp/proto --julia_out=/tmp/proto/jl /tmp/proto/stocks.proto`)"
   ]
  },
  {
   "cell_type": "code",
   "execution_count": 7,
   "metadata": {
    "collapsed": false,
    "slideshow": {
     "slide_type": "slide"
    }
   },
   "outputs": [],
   "source": [
    "pysrvr = \"\"\"\n",
    "import socket\n",
    "import stocks_pb2\n",
    "\n",
    "def add_quote(portfolio, symbol, price):\n",
    "    q = portfolio.quote.add()\n",
    "    q.symbol = symbol\n",
    "    q.price = price\n",
    "\n",
    "def get_portfolio():\n",
    "    portfolio = stocks_pb2.Portfolio()\n",
    "    add_quote(portfolio, 'GOOG', 400)\n",
    "    add_quote(portfolio, 'FB', 80)\n",
    "    portfolio.count = 2\n",
    "    return portfolio.SerializeToString()\n",
    "\n",
    "def serve():\n",
    "    s = socket.socket(socket.AF_INET, socket.SOCK_STREAM)\n",
    "    s.bind(('0.0.0.0', 9999))\n",
    "    s.listen(1)\n",
    "    conn, addr = s.accept()\n",
    "    conn.send(get_portfolio())\n",
    "    conn.close()\n",
    "    s.close()\n",
    "\n",
    "serve()\n",
    "\"\"\"\n",
    "\n",
    "open(\"/tmp/proto/py/srvr.py\", \"w\") do f\n",
    "    write(f, pysrvr)\n",
    "end;"
   ]
  },
  {
   "cell_type": "code",
   "execution_count": 8,
   "metadata": {
    "collapsed": true,
    "slideshow": {
     "slide_type": "slide"
    }
   },
   "outputs": [],
   "source": [
    "jlclnt = \"\"\"\n",
    "include(\"stocks.jl\")\n",
    "using stocks\n",
    "using ProtoBuf\n",
    "\n",
    "clnt = connect(9999)\n",
    "portfolio = readproto(clnt, Portfolio())\n",
    "println(portfolio)\n",
    "close(clnt)\n",
    "\"\"\"\n",
    "\n",
    "open(\"/tmp/proto/jl/clnt.jl\", \"w\") do f\n",
    "    write(f, jlclnt)\n",
    "end;"
   ]
  },
  {
   "cell_type": "code",
   "execution_count": 9,
   "metadata": {
    "collapsed": false,
    "slideshow": {
     "slide_type": "slide"
    }
   },
   "outputs": [],
   "source": [
    ";python /tmp/proto/py/srvr.py &"
   ]
  },
  {
   "cell_type": "code",
   "execution_count": 10,
   "metadata": {
    "collapsed": false,
    "slideshow": {
     "slide_type": "-"
    }
   },
   "outputs": [
    {
     "name": "stdout",
     "output_type": "stream",
     "text": [
      "stocks.Portfolio([stocks.Quote(\"GOOG\",400.0),stocks.Quote(\"FB\",80.0)],2)\n"
     ]
    }
   ],
   "source": [
    ";julia /tmp/proto/jl/clnt.jl"
   ]
  },
  {
   "cell_type": "markdown",
   "metadata": {
    "slideshow": {
     "slide_type": "slide"
    }
   },
   "source": [
    "## Exploring - Extensible Structures\n",
    "\n",
    "- Upgrade to compatible field types\n",
    "- Add new fields"
   ]
  },
  {
   "cell_type": "code",
   "execution_count": 11,
   "metadata": {
    "collapsed": true,
    "slideshow": {
     "slide_type": "slide"
    }
   },
   "outputs": [],
   "source": [
    "protodef = \"\"\"\n",
    "package stocks2;                 // Contain these in the stocks namespace\n",
    "\n",
    "message Quote{                   // Stock quote has...\n",
    "    required string symbol = 1;  // the stock symbol\n",
    "    required double price = 2;   // and it's price\n",
    "}\n",
    "\n",
    "message Portfolio{               // A portfolio can have...\n",
    "    repeated Quote quote = 1;    // a list of quotes\n",
    "    required int64 count = 2;    // number of quotes <<== changed int32 to int64\n",
    "}\n",
    "\"\"\"\n",
    "\n",
    "open(\"/tmp/proto/stocks2.proto\", \"w\") do f\n",
    "    write(f, protodef)\n",
    "end;\n",
    "\n",
    "run(`protoc --proto_path=/tmp/proto --julia_out=/tmp/proto/jl /tmp/proto/stocks2.proto`)"
   ]
  },
  {
   "cell_type": "code",
   "execution_count": 12,
   "metadata": {
    "collapsed": true,
    "slideshow": {
     "slide_type": "slide"
    }
   },
   "outputs": [],
   "source": [
    "jlclnt = \"\"\"\n",
    "include(\"stocks2.jl\")\n",
    "using stocks2\n",
    "using ProtoBuf\n",
    "\n",
    "clnt = connect(9999)\n",
    "portfolio = readproto(clnt, Portfolio())\n",
    "println(portfolio)\n",
    "close(clnt)\n",
    "\"\"\"\n",
    "\n",
    "open(\"/tmp/proto/jl/clnt2.jl\", \"w\") do f\n",
    "    write(f, jlclnt)\n",
    "end;"
   ]
  },
  {
   "cell_type": "code",
   "execution_count": 13,
   "metadata": {
    "collapsed": false,
    "slideshow": {
     "slide_type": "slide"
    }
   },
   "outputs": [],
   "source": [
    ";python /tmp/proto/py/srvr.py &"
   ]
  },
  {
   "cell_type": "code",
   "execution_count": 14,
   "metadata": {
    "collapsed": false,
    "slideshow": {
     "slide_type": "-"
    }
   },
   "outputs": [
    {
     "name": "stdout",
     "output_type": "stream",
     "text": [
      "stocks2.Portfolio([stocks2.Quote(\"GOOG\",400.0),stocks2.Quote(\"FB\",80.0)],2)\n"
     ]
    }
   ],
   "source": [
    ";julia /tmp/proto/jl/clnt2.jl"
   ]
  },
  {
   "cell_type": "markdown",
   "metadata": {
    "slideshow": {
     "slide_type": "slide"
    }
   },
   "source": [
    "## Exploring - Efficiency & Compactness\n",
    "\n",
    "- Very compact serialized form\n",
    "- often much smaller compared to others"
   ]
  },
  {
   "cell_type": "code",
   "execution_count": 10,
   "metadata": {
    "collapsed": false,
    "slideshow": {
     "slide_type": "slide"
    }
   },
   "outputs": [],
   "source": [
    "using ProtoBuf\n",
    "using JSON\n",
    "using HDF5, JLD\n",
    "using Compat\n",
    "\n",
    "type TestType\n",
    "    b::Bool\n",
    "    i32::Int32\n",
    "    iu32::UInt32\n",
    "    i64::Int64\n",
    "    ui64::UInt64\n",
    "    f32::Float32\n",
    "    f64::Float64\n",
    "    s::ASCIIString\n",
    "\n",
    "    ab::Array{Bool,1}\n",
    "    ai32::Array{Int32,1}\n",
    "    ai64::Array{Int64,1}\n",
    "    af32::Array{Float32,1}\n",
    "    af64::Array{Float64,1}\n",
    "    as::Array{AbstractString,1}\n",
    "end # type TestType"
   ]
  },
  {
   "cell_type": "code",
   "execution_count": 11,
   "metadata": {
    "collapsed": false,
    "slideshow": {
     "slide_type": "slide"
    }
   },
   "outputs": [],
   "source": [
    "function julia_ser(t::TestType)\n",
    "    iob = PipeBuffer()\n",
    "    serialize(iob, t)\n",
    "    iob.size\n",
    "end\n",
    "\n",
    "function proto_ser(t::TestType)\n",
    "    iob = PipeBuffer()\n",
    "    writeproto(iob, t)\n",
    "    iob.size\n",
    "end\n",
    "\n",
    "function json_ser(t::TestType)\n",
    "    iob = PipeBuffer()\n",
    "    JSON.print(iob, t)\n",
    "    iob.size\n",
    "end\n",
    "\n",
    "function jld_ser(t::TestType)\n",
    "    jldopen(\"/tmp/t.jld\", \"w\") do file\n",
    "        write(file, \"T\", t)\n",
    "    end\n",
    "    filesize(\"/tmp/t.jld\")\n",
    "end;"
   ]
  },
  {
   "cell_type": "code",
   "execution_count": 13,
   "metadata": {
    "collapsed": false,
    "slideshow": {
     "slide_type": "slide"
    }
   },
   "outputs": [
    {
     "name": "stdout",
     "output_type": "stream",
     "text": [
      "===========================================\n",
      "         Method      Serialized Size\n",
      "===========================================\n",
      "       ProtoBuf                 1835\n",
      "          Julia                 2163\n",
      "           JSON                 3254\n",
      "            JLD                32792\n"
     ]
    }
   ],
   "source": [
    "t = TestType(\n",
    "        randbool()\n",
    "        ,rand(-100:100), rand(1:100)\n",
    "        ,rand(-100:100), rand(1:100)\n",
    "        ,float32(rand()*100), float64(rand()*100)\n",
    "        ,randstring(100)\n",
    "        ,convert(Array{Bool,1}, randbool(100))\n",
    "        ,round(Int32, 127*rand(50))\n",
    "        ,round(Int64, 127*rand(50))\n",
    "        ,rand(Float32, 50)\n",
    "        ,rand(Float64, 50)\n",
    "        ,[randstring(10) for i in 1:50]\n",
    "    )\n",
    "\n",
    "@printf(\"%s\\n%15s %20s\\n%s\\n\", \"=\"^43, \"Method\", \"Serialized Size\", \"=\"^43)\n",
    "@printf(\"%15s %20d\\n\", \"ProtoBuf\", proto_ser(t))\n",
    "@printf(\"%15s %20d\\n\", \"Julia\", julia_ser(t))\n",
    "@printf(\"%15s %20d\\n\", \"JSON\", json_ser(t))\n",
    "@printf(\"%15s %20d\\n\", \"JLD\", jld_ser(t))"
   ]
  },
  {
   "cell_type": "markdown",
   "metadata": {
    "slideshow": {
     "slide_type": "slide"
    }
   },
   "source": [
    "## ProtoBuf may NOT be the best when:\n",
    "- Serialized data needs to be human readable\n",
    "- Self descriptive objects required\n",
    "    - When schema can't be shared between parties\n",
    "- Can't define a schema (arbitrary structure for data)"
   ]
  }
 ],
 "metadata": {
  "celltoolbar": "Slideshow",
  "kernelspec": {
   "display_name": "Julia 0.3.9",
   "language": "julia",
   "name": "julia-0.3"
  },
  "language_info": {
   "name": "julia",
   "version": "0.3.9"
  }
 },
 "nbformat": 4,
 "nbformat_minor": 0
}
