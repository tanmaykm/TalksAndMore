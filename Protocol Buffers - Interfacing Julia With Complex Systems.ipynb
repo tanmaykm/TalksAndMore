{
 "cells": [
  {
   "cell_type": "markdown",
   "metadata": {
    "slideshow": {
     "slide_type": "slide"
    }
   },
   "source": [
    "#Protocol Buffers (ProtoBuf.jl)\n",
    "_Tanmay Mohapatra (@tanmaykm)_"
   ]
  },
  {
   "cell_type": "markdown",
   "metadata": {
    "slideshow": {
     "slide_type": "slide"
    }
   },
   "source": [
    "# Challenges in large systems\n",
    "- Multiple components\n",
    "- Different release/deployment plans\n",
    "- Heterogeneous environment\n",
    "\n",
    "# Important to\n",
    "\n",
    "- define interfaces clearly\n",
    "- handle changes\n",
    "- interoperate within a heterogeneous environment\n",
    "- **Without introducing a lot of inefficiency & complexity**"
   ]
  },
  {
   "cell_type": "markdown",
   "metadata": {
    "slideshow": {
     "slide_type": "slide"
    }
   },
   "source": [
    "# Protocol Buffer\n",
    "\n",
    "- A data exchange (serialization) format\n",
    "- \\+ RPC Service specification\n",
    "\n",
    "Open-sourced by Google.<br/>_\n",
    "(https://developers.google.com/protocol-buffers/)_"
   ]
  },
  {
   "cell_type": "markdown",
   "metadata": {
    "slideshow": {
     "slide_type": "slide"
    }
   },
   "source": [
    "# Pkg.add(\"ProtoBuf\")\n",
    "\n",
    "- protoc plugin\n",
    "    - _.proto to .jl code generator_\n",
    "- protocol implementation\n",
    "    - _serialization/deserialization_"
   ]
  },
  {
   "cell_type": "code",
   "execution_count": 1,
   "metadata": {
    "collapsed": true,
    "slideshow": {
     "slide_type": "fragment"
    }
   },
   "outputs": [],
   "source": [
    "using ProtoBuf"
   ]
  },
  {
   "cell_type": "markdown",
   "metadata": {
    "slideshow": {
     "slide_type": "slide"
    }
   },
   "source": [
    "# Structured Messages\n",
    "- Message is a set of fields\n",
    "    - Typed (determines wire format)\n",
    "    - Tagged (identifies, indicates sequence)\n",
    "    - Have rules (required/optional/repeated/default value)"
   ]
  },
  {
   "cell_type": "code",
   "execution_count": 2,
   "metadata": {
    "collapsed": false,
    "slideshow": {
     "slide_type": "slide"
    }
   },
   "outputs": [],
   "source": [
    "protodef = \"\"\"\n",
    "package stocks;                 // Contain these in the stocks namespace\n",
    "\n",
    "message Quote{                  // Stock quote has...\n",
    "    required string symbol = 1; // the stock symbol\n",
    "    required double price = 2;   // and it's price\n",
    "}\n",
    "\n",
    "message Portfolio{              // A portfolio can have...\n",
    "    repeated Quote quote = 1;   // a list of quotes\n",
    "    required int32 count = 2;   // number of quotes in portfolio\n",
    "}\n",
    "\"\"\";"
   ]
  },
  {
   "cell_type": "code",
   "execution_count": 3,
   "metadata": {
    "collapsed": false,
    "slideshow": {
     "slide_type": "subslide"
    }
   },
   "outputs": [],
   "source": [
    "run(`mkdir -p /tmp/proto`)\n",
    "\n",
    "open(\"/tmp/proto/stocks.proto\", \"w\") do f\n",
    "    write(f, protodef)\n",
    "end;"
   ]
  },
  {
   "cell_type": "markdown",
   "metadata": {
    "slideshow": {
     "slide_type": "slide"
    }
   },
   "source": [
    "#Language &amp; Platform Neutral\n",
    "\n",
    "- Java, Python, C++ supported by default\n",
    "- [Add-ons](https://github.com/google/protobuf/wiki/Third-Party-Add-ons) for about 30 other languages (including Julia)"
   ]
  },
  {
   "cell_type": "code",
   "execution_count": 5,
   "metadata": {
    "collapsed": false,
    "slideshow": {
     "slide_type": "slide"
    }
   },
   "outputs": [],
   "source": [
    "run(`mkdir -p /tmp/proto/py`)\n",
    "run(`mkdir -p /tmp/proto/jl`)\n",
    "run(`protoc --proto_path=/tmp/proto --python_out=/tmp/proto/py /tmp/proto/stocks.proto`)\n",
    "run(`protoc --proto_path=/tmp/proto --julia_out=/tmp/proto/jl /tmp/proto/stocks.proto`)"
   ]
  },
  {
   "cell_type": "code",
   "execution_count": 6,
   "metadata": {
    "collapsed": false,
    "slideshow": {
     "slide_type": "slide"
    }
   },
   "outputs": [],
   "source": [
    "pysrvr = \"\"\"\n",
    "import socket\n",
    "import stocks_pb2\n",
    "\n",
    "def add_quote(portfolio, symbol, price):\n",
    "    q = portfolio.quote.add()\n",
    "    q.symbol = symbol\n",
    "    q.price = price\n",
    "\n",
    "def get_portfolio():\n",
    "    portfolio = stocks_pb2.Portfolio()\n",
    "    add_quote(portfolio, 'GOOG', 400)\n",
    "    add_quote(portfolio, 'FB', 80)\n",
    "    portfolio.count = 2\n",
    "    return portfolio.SerializeToString()\n",
    "\n",
    "def serve():\n",
    "    s = socket.socket(socket.AF_INET, socket.SOCK_STREAM)\n",
    "    s.bind(('0.0.0.0', 0))\n",
    "    s.listen(1)\n",
    "    with open(\"/tmp/pysrvr.port\", \"w\") as f:\n",
    "        f.write(str(s.getsockname()[1]))\n",
    "    conn, addr = s.accept()\n",
    "    conn.send(get_portfolio())\n",
    "    conn.close()\n",
    "    s.close()\n",
    "\n",
    "serve()\n",
    "\"\"\"\n",
    "\n",
    "open(\"/tmp/proto/py/srvr.py\", \"w\") do f\n",
    "    write(f, pysrvr)\n",
    "end;"
   ]
  },
  {
   "cell_type": "code",
   "execution_count": 7,
   "metadata": {
    "collapsed": true,
    "slideshow": {
     "slide_type": "slide"
    }
   },
   "outputs": [],
   "source": [
    "jlclnt = \"\"\"\n",
    "include(\"stocks.jl\")\n",
    "using stocks\n",
    "using ProtoBuf\n",
    "\n",
    "srvrport = parse(Int, readall(\"/tmp/pysrvr.port\"))\n",
    "clnt = connect(srvrport)\n",
    "portfolio = readproto(clnt, Portfolio())\n",
    "println(portfolio)\n",
    "close(clnt)\n",
    "\"\"\"\n",
    "\n",
    "open(\"/tmp/proto/jl/clnt.jl\", \"w\") do f\n",
    "    write(f, jlclnt)\n",
    "end;"
   ]
  },
  {
   "cell_type": "code",
   "execution_count": 8,
   "metadata": {
    "collapsed": false,
    "slideshow": {
     "slide_type": "slide"
    }
   },
   "outputs": [],
   "source": [
    ";python /tmp/proto/py/srvr.py &"
   ]
  },
  {
   "cell_type": "code",
   "execution_count": 9,
   "metadata": {
    "collapsed": false,
    "slideshow": {
     "slide_type": "-"
    }
   },
   "outputs": [
    {
     "name": "stdout",
     "output_type": "stream",
     "text": [
      "stocks.Portfolio([stocks.Quote(\"GOOG\",400.0),stocks.Quote(\"FB\",80.0)],2)\n"
     ]
    }
   ],
   "source": [
    ";julia /tmp/proto/jl/clnt.jl"
   ]
  },
  {
   "cell_type": "markdown",
   "metadata": {
    "slideshow": {
     "slide_type": "slide"
    }
   },
   "source": [
    "# Extensible\n",
    "\n",
    "- Compose & Reuse\n",
    "    - import definitions\n",
    "    - nested structures\n",
    "\n",
    "- Handle Changes & Versioning\n",
    "    - Add new fields / Change types\n",
    "    - Missing field => default value\n",
    "    - Unknown field => ignore"
   ]
  },
  {
   "cell_type": "code",
   "execution_count": 10,
   "metadata": {
    "collapsed": true,
    "slideshow": {
     "slide_type": "slide"
    }
   },
   "outputs": [],
   "source": [
    "protodef = \"\"\"\n",
    "package stocks2;                 // Contain these in the stocks namespace\n",
    "\n",
    "message Quote{                   // Stock quote has...\n",
    "    required string symbol = 1;  // the stock symbol\n",
    "    required double price = 2;   // and it's price\n",
    "}\n",
    "\n",
    "message Portfolio{               // A portfolio can have...\n",
    "    repeated Quote quote = 1;    // a list of quotes\n",
    "    required int64 count = 2;    // number of quotes <<== changed int32 to int64\n",
    "    optional int64 client_id = 3;\n",
    "}\n",
    "\"\"\"\n",
    "\n",
    "open(\"/tmp/proto/stocks2.proto\", \"w\") do f\n",
    "    write(f, protodef)\n",
    "end;\n",
    "\n",
    "run(`protoc --proto_path=/tmp/proto --julia_out=/tmp/proto/jl /tmp/proto/stocks2.proto`)"
   ]
  },
  {
   "cell_type": "code",
   "execution_count": 11,
   "metadata": {
    "collapsed": true,
    "slideshow": {
     "slide_type": "slide"
    }
   },
   "outputs": [],
   "source": [
    "jlclnt = \"\"\"\n",
    "include(\"stocks2.jl\")\n",
    "using stocks2\n",
    "using ProtoBuf\n",
    "\n",
    "srvrport = parse(Int, readall(\"/tmp/pysrvr.port\"))\n",
    "clnt = connect(srvrport)\n",
    "portfolio = readproto(clnt, Portfolio())\n",
    "println(portfolio)\n",
    "close(clnt)\n",
    "\"\"\"\n",
    "\n",
    "open(\"/tmp/proto/jl/clnt2.jl\", \"w\") do f\n",
    "    write(f, jlclnt)\n",
    "end;"
   ]
  },
  {
   "cell_type": "code",
   "execution_count": 12,
   "metadata": {
    "collapsed": false,
    "slideshow": {
     "slide_type": "slide"
    }
   },
   "outputs": [],
   "source": [
    ";python /tmp/proto/py/srvr.py &"
   ]
  },
  {
   "cell_type": "code",
   "execution_count": 13,
   "metadata": {
    "collapsed": false,
    "slideshow": {
     "slide_type": "-"
    }
   },
   "outputs": [
    {
     "name": "stdout",
     "output_type": "stream",
     "text": [
      "stocks2.Portfolio([stocks2.Quote(\"GOOG\",400.0),stocks2.Quote(\"FB\",80.0)],2,0)\n"
     ]
    }
   ],
   "source": [
    ";julia /tmp/proto/jl/clnt2.jl"
   ]
  },
  {
   "cell_type": "markdown",
   "metadata": {
    "slideshow": {
     "slide_type": "slide"
    }
   },
   "source": [
    "# Efficient\n",
    "\n",
    "- Very compact serialized form\n",
    "- often much smaller compared to others"
   ]
  },
  {
   "cell_type": "code",
   "execution_count": 14,
   "metadata": {
    "collapsed": false,
    "slideshow": {
     "slide_type": "slide"
    }
   },
   "outputs": [],
   "source": [
    "using ProtoBuf\n",
    "using JSON\n",
    "using HDF5, JLD\n",
    "using Compat\n",
    "\n",
    "type TestType\n",
    "    b::Bool\n",
    "    i32::Int32\n",
    "    iu32::UInt32\n",
    "    i64::Int64\n",
    "    ui64::UInt64\n",
    "    f32::Float32\n",
    "    f64::Float64\n",
    "    s::ASCIIString\n",
    "\n",
    "    ab::Array{Bool,1}\n",
    "    ai32::Array{Int32,1}\n",
    "    ai64::Array{Int64,1}\n",
    "    af32::Array{Float32,1}\n",
    "    af64::Array{Float64,1}\n",
    "    as::Array{AbstractString,1}\n",
    "end # type TestType"
   ]
  },
  {
   "cell_type": "code",
   "execution_count": 15,
   "metadata": {
    "collapsed": false,
    "slideshow": {
     "slide_type": "slide"
    }
   },
   "outputs": [],
   "source": [
    "function julia_ser(t::TestType)\n",
    "    iob = PipeBuffer()\n",
    "    serialize(iob, t)\n",
    "    iob.size\n",
    "end\n",
    "\n",
    "function proto_ser(t::TestType)\n",
    "    iob = PipeBuffer()\n",
    "    writeproto(iob, t)\n",
    "    iob.size\n",
    "end\n",
    "\n",
    "function json_ser(t::TestType)\n",
    "    iob = PipeBuffer()\n",
    "    JSON.print(iob, t)\n",
    "    iob.size\n",
    "end;"
   ]
  },
  {
   "cell_type": "code",
   "execution_count": 16,
   "metadata": {
    "collapsed": false,
    "slideshow": {
     "slide_type": "slide"
    }
   },
   "outputs": [
    {
     "name": "stdout",
     "output_type": "stream",
     "text": [
      "===========================================\n",
      "         Method      Serialized Size\n",
      "===========================================\n",
      "       ProtoBuf                 1826\n",
      "          Julia                 2162\n",
      "           JSON                 3267\n"
     ]
    }
   ],
   "source": [
    "t = TestType(\n",
    "        randbool()\n",
    "        ,rand(-100:100), rand(1:100)\n",
    "        ,rand(-100:100), rand(1:100)\n",
    "        ,float32(rand()*100), float64(rand()*100)\n",
    "        ,randstring(100)\n",
    "        ,convert(Array{Bool,1}, randbool(100))\n",
    "        ,round(Int32, 127*rand(50))\n",
    "        ,round(Int64, 127*rand(50))\n",
    "        ,rand(Float32, 50)\n",
    "        ,rand(Float64, 50)\n",
    "        ,[randstring(10) for i in 1:50]\n",
    "    )\n",
    "\n",
    "@printf(\"%s\\n%15s %20s\\n%s\\n\", \"=\"^43, \"Method\", \"Serialized Size\", \"=\"^43)\n",
    "@printf(\"%15s %20d\\n\", \"ProtoBuf\", proto_ser(t))\n",
    "@printf(\"%15s %20d\\n\", \"Julia\", julia_ser(t))\n",
    "@printf(\"%15s %20d\\n\", \"JSON\", json_ser(t))"
   ]
  },
  {
   "cell_type": "markdown",
   "metadata": {
    "slideshow": {
     "slide_type": "slide"
    }
   },
   "source": [
    "# RPC Services\n",
    "- Service interfaces are defined in specification\n",
    "- Code generator generates stubs\n",
    "- RPC library provides the plumbing\n",
    "- Application client simply invokes methods\n",
    "\n",
    "\n",
    "\n",
    "\n",
    "Example service (Elly.jl - Hadoop & Yarn client):\n",
    "- [Generated service stubs](https://github.com/JuliaParallel/Elly.jl/blob/master/src/hadoop/applicationmaster_protocol_pb.jl#L29)\n",
    "- [RPC library - channel and controller](https://github.com/JuliaParallel/Elly.jl/blob/master/src/rpc.jl#L99)\n",
    "- [Application usage](https://github.com/JuliaParallel/Elly.jl/blob/master/src/api_yarn_appmaster.jl#L140)"
   ]
  },
  {
   "cell_type": "markdown",
   "metadata": {
    "slideshow": {
     "slide_type": "slide"
    }
   },
   "source": [
    "## Not suitable when:\n",
    "- Can't define or share schema\n",
    "    - Need self descriptive format\n",
    "- Have circular references\n",
    "- Serialized data needs to be human readable"
   ]
  },
  {
   "cell_type": "markdown",
   "metadata": {
    "slideshow": {
     "slide_type": "slide"
    }
   },
   "source": [
    "## Protocol Buffer - Version 3\n",
    "- Simpler / Less ambiguous\n",
    "- Map type\n",
    "- Either binary or text encoding"
   ]
  },
  {
   "cell_type": "markdown",
   "metadata": {
    "slideshow": {
     "slide_type": "slide"
    }
   },
   "source": [
    "# Thank You"
   ]
  },
  {
   "cell_type": "code",
   "execution_count": null,
   "metadata": {
    "collapsed": true,
    "slideshow": {
     "slide_type": "skip"
    }
   },
   "outputs": [],
   "source": []
  },
  {
   "cell_type": "markdown",
   "metadata": {
    "slideshow": {
     "slide_type": "skip"
    }
   },
   "source": [
    "## Used by:\n",
    "- Google (internally)\n",
    "- Much of the Hadoop ecosystem:\n",
    "    - _HDFS, Yarn_, _HBase_, _Parquet_\n",
    "- Elly.jl _(https://github.com/JuliaParallel/Elly.jl)_ \n",
    "    - _a HDFS and Yarn interface_\n",
    "- Many others for:\n",
    "    - _API interface_\n",
    "    - _data transmission_\n",
    "    - _data storage_\n"
   ]
  },
  {
   "cell_type": "markdown",
   "metadata": {
    "slideshow": {
     "slide_type": "skip"
    }
   },
   "source": [
    "# Protocol Buffers\n",
    "\n",
    "- A data exchange (serialization) format\n",
    "- \\+ RPC specification\n",
    "\n",
    "- Structured & Extensible\n",
    "- Language / Platform Neutral\n",
    "- Compact\n",
    "\n",
    "Not XML. Much smaller, faster, and simpler.\n",
    "\n",
    "Open-sourced by Google.<br/>_\n",
    "(https://developers.google.com/protocol-buffers/)_"
   ]
  },
  {
   "cell_type": "markdown",
   "metadata": {
    "slideshow": {
     "slide_type": "skip"
    }
   },
   "source": [
    "# Challenges in complex systems\n",
    "\n",
    "- Multiple components\n",
    "    - interaction among components\n",
    "    - independent development/deployment cycles\n",
    "- Interfaces with other applications\n",
    "- Heterogeneous environments\n",
    "- High availability"
   ]
  },
  {
   "cell_type": "markdown",
   "metadata": {
    "collapsed": true,
    "slideshow": {
     "slide_type": "skip"
    }
   },
   "source": [
    "<img src=\"AppComplexity.png\"/>\n",
    "\n",
    "\n",
    "###* often more complex than this"
   ]
  },
  {
   "cell_type": "code",
   "execution_count": null,
   "metadata": {
    "collapsed": false,
    "slideshow": {
     "slide_type": "skip"
    }
   },
   "outputs": [],
   "source": [
    "@printf(\"%s\\n%10s %20s\\n%s\\n\", \"=\"^33, \"Field Type\", \"Julia Type\", \"=\"^33)\n",
    "for (k,v) in ProtoBuf.WIRETYPES\n",
    "    @printf(\"%10s %20s\\n\", k, v[4])\n",
    "end"
   ]
  }
 ],
 "metadata": {
  "celltoolbar": "Slideshow",
  "kernelspec": {
   "display_name": "Julia 0.4.0-dev",
   "language": "julia",
   "name": "julia-0.4"
  },
  "language_info": {
   "name": "julia",
   "version": "0.4.0"
  }
 },
 "nbformat": 4,
 "nbformat_minor": 0
}
