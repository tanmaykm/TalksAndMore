{
 "cells": [
  {
   "cell_type": "markdown",
   "id": "fa71f443-8156-4673-ae79-68e2fdc43843",
   "metadata": {},
   "source": [
    "## Open Policy Agent"
   ]
  },
  {
   "cell_type": "code",
   "execution_count": 1,
   "id": "7ec2c4f5-00bb-4e03-aaed-6cdc6375a69b",
   "metadata": {
    "tags": []
   },
   "outputs": [],
   "source": [
    "# import required packages (install if needed)\n",
    "using OpenPolicyAgent\n",
    "using OpenAPI\n",
    "\n",
    "import OpenPolicyAgent: ASTWalker\n",
    "import OpenPolicyAgent.ASTWalker.AST: ASTVisitor\n",
    "import OpenPolicyAgent.ASTWalker.SQL: SQLVisitor, UnconditionalInclude, UnconditionalExclude"
   ]
  },
  {
   "cell_type": "code",
   "execution_count": 2,
   "id": "9591f176-87c1-432c-b556-19a65e04568e",
   "metadata": {
    "tags": []
   },
   "outputs": [],
   "source": [
    "# define policy (rego)\n",
    "const policy = \"\"\"\n",
    "    package accounting_system\n",
    "\n",
    "    # no one is allowed by default\n",
    "    default allow = false\n",
    "    default check_business_hours = false\n",
    "\n",
    "    check_business_hours {\n",
    "        input.hourofday >= 9\n",
    "        input.hourofday <= 17\n",
    "        input.dayofweek >= 1\n",
    "        input.dayofweek <= 5\n",
    "    }\n",
    "\n",
    "    # allow all users during business hours when audit is not happening\n",
    "    allow {\n",
    "        input.is_audit_time == false\n",
    "        input.is_logged_in == true\n",
    "        check_business_hours\n",
    "    }\n",
    "\n",
    "    # allow boss at all hours when audit is not happening\n",
    "    allow {\n",
    "        input.is_audit_time == false\n",
    "        input.is_logged_in == true\n",
    "        input.user.role == \"boss\"\n",
    "    }\n",
    "\n",
    "    # allow only auditors during business hours when audit is happening\n",
    "    allow {\n",
    "        input.is_audit_time == true\n",
    "        input.is_logged_in == true\n",
    "        input.user.role == \"auditor\"\n",
    "        check_business_hours\n",
    "    }\n",
    "\"\"\";"
   ]
  },
  {
   "cell_type": "code",
   "execution_count": 3,
   "id": "23a7ca41-7f8b-44f0-9589-ce9bf3122b7c",
   "metadata": {
    "tags": []
   },
   "outputs": [],
   "source": [
    "# Start the OPA server\n",
    "opa_server = OpenPolicyAgent.Server.MonitoredOPAServer(\"demo_config.yaml\")\n",
    "OpenPolicyAgent.Server.start!(opa_server);"
   ]
  },
  {
   "cell_type": "code",
   "execution_count": 4,
   "id": "53df5d32-1bdd-4339-8f25-bcb25881d7dd",
   "metadata": {
    "tags": []
   },
   "outputs": [],
   "source": [
    "# Create client to interact with the OPA server\n",
    "openapi_client = OpenAPI.Clients.Client(\"http://localhost:8181\"; escape_path_params=false)\n",
    "policy_client = OpenPolicyAgent.Client.PolicyApi(openapi_client)\n",
    "compile_client = OpenPolicyAgent.Client.CompileApi(openapi_client);"
   ]
  },
  {
   "cell_type": "code",
   "execution_count": 5,
   "id": "a60bb397-753b-4d3e-88d2-d5838eb9b190",
   "metadata": {
    "tags": []
   },
   "outputs": [],
   "source": [
    "# Initialize the server by loading the policy\n",
    "# Note: This is a demo.\n",
    "#    Dynamic loading of policies must be done securely.\n",
    "#    Policy servers can be configured with policies directly.\n",
    "response, _ = OpenPolicyAgent.Client.put_policy_module(policy_client, \"accounting_system\", policy)\n",
    "@assert isa(response, OpenPolicyAgent.Client.PutPolicySuccessResponse);"
   ]
  },
  {
   "cell_type": "code",
   "execution_count": 6,
   "id": "f0027421-48f2-4d91-9d09-910cf5bec262",
   "metadata": {
    "tags": []
   },
   "outputs": [
    {
     "data": {
      "text/plain": [
       "is_allowed (generic function with 1 method)"
      ]
     },
     "execution_count": 6,
     "metadata": {},
     "output_type": "execute_result"
    }
   ],
   "source": [
    "function is_allowed(input)\n",
    "    query = \"data.accounting_system.allow == true\"\n",
    "    unknowns = haskey(input, \"user\") ? [] : [\"input.user\"]\n",
    "    partial_query_schema = OpenPolicyAgent.Client.PartialQuerySchema(;\n",
    "        query = query,\n",
    "        input = input,\n",
    "        unknowns = unknowns,\n",
    "    )\n",
    "\n",
    "    # compile the query by partially evaluating it\n",
    "    response, _ = OpenPolicyAgent.Client.post_compile(\n",
    "        compile_client;\n",
    "        partial_query_schema = partial_query_schema,\n",
    "    )\n",
    "    @assert isa(response, OpenPolicyAgent.Client.CompileSuccessResponse)\n",
    "\n",
    "    # translate resultant AST to SQL\n",
    "    result = response.result\n",
    "    ast = ASTWalker.walk(ASTVisitor(), result)\n",
    "    sqlvisitor = SQLVisitor(Dict{String, String}(), Dict{String, String}())\n",
    "    sqlcondition = ASTWalker.walk(sqlvisitor, ast)\n",
    "\n",
    "    return isa(sqlcondition, UnconditionalExclude) ? \"false\" :\n",
    "           isa(sqlcondition, UnconditionalInclude) ? \"true\" :\n",
    "           sqlcondition.sql\n",
    "end"
   ]
  },
  {
   "cell_type": "code",
   "execution_count": 7,
   "id": "ebccdf3b-bb11-4a3e-ac63-97f6deeffcac",
   "metadata": {
    "tags": []
   },
   "outputs": [
    {
     "data": {
      "text/plain": [
       "\"true\""
      ]
     },
     "execution_count": 7,
     "metadata": {},
     "output_type": "execute_result"
    }
   ],
   "source": [
    "# users are allowed during business hours, when there's no audit\n",
    "is_allowed(Dict(\n",
    "        \"hourofday\" => 10,\n",
    "        \"dayofweek\" => 2,\n",
    "        \"is_audit_time\" => false,\n",
    "        \"is_logged_in\" => true,\n",
    "        \"user\" => Dict(\"role\" => \"user\")\n",
    "    )\n",
    ")"
   ]
  },
  {
   "cell_type": "code",
   "execution_count": 8,
   "id": "8334ce58-c569-460a-a37e-c0ec51ace0b8",
   "metadata": {
    "tags": []
   },
   "outputs": [
    {
     "data": {
      "text/plain": [
       "\"false\""
      ]
     },
     "execution_count": 8,
     "metadata": {},
     "output_type": "execute_result"
    }
   ],
   "source": [
    "# users are not allowed outside business hours\n",
    "is_allowed(Dict(\n",
    "        \"hourofday\" => 1,\n",
    "        \"dayofweek\" => 2,\n",
    "        \"is_audit_time\" => false,\n",
    "        \"is_logged_in\" => true,\n",
    "        \"user\" => Dict(\"role\" => \"user\")\n",
    "    )\n",
    ")"
   ]
  },
  {
   "cell_type": "code",
   "execution_count": 9,
   "id": "0bbf6ccc-6419-448a-933d-79a3aca1f99c",
   "metadata": {
    "tags": []
   },
   "outputs": [
    {
     "data": {
      "text/plain": [
       "\"true\""
      ]
     },
     "execution_count": 9,
     "metadata": {},
     "output_type": "execute_result"
    }
   ],
   "source": [
    "# boss is allowed at all hours, when there's no audit\n",
    "is_allowed(Dict(\n",
    "        \"hourofday\" => 1,\n",
    "        \"dayofweek\" => 2,\n",
    "        \"is_audit_time\" => false,\n",
    "        \"is_logged_in\" => true,\n",
    "        \"user\" => Dict(\"role\" => \"boss\")\n",
    "    )\n",
    ")"
   ]
  },
  {
   "cell_type": "code",
   "execution_count": 10,
   "id": "4413966c-9174-41a2-8cab-89042112f31d",
   "metadata": {
    "tags": []
   },
   "outputs": [
    {
     "data": {
      "text/plain": [
       "\"false\""
      ]
     },
     "execution_count": 10,
     "metadata": {},
     "output_type": "execute_result"
    }
   ],
   "source": [
    "# even boss is not allowed when there's an audit\n",
    "is_allowed(Dict(\n",
    "        \"hourofday\" => 10,\n",
    "        \"dayofweek\" => 2,\n",
    "        \"is_audit_time\" => true,\n",
    "        \"is_logged_in\" => true,\n",
    "        \"user\" => Dict(\"role\" => \"boss\")\n",
    "    )\n",
    ")"
   ]
  },
  {
   "cell_type": "code",
   "execution_count": 11,
   "id": "77228d97-1716-4774-ac10-69352f06808f",
   "metadata": {
    "tags": []
   },
   "outputs": [
    {
     "data": {
      "text/plain": [
       "\"( input.user.role = 'auditor' )\""
      ]
     },
     "execution_count": 11,
     "metadata": {},
     "output_type": "execute_result"
    }
   ],
   "source": [
    "# find the list of users who are allowed access during audit\n",
    "is_allowed(Dict(\n",
    "        \"hourofday\" => 10,\n",
    "        \"dayofweek\" => 2,\n",
    "        \"is_audit_time\" => true,\n",
    "        \"is_logged_in\" => true,\n",
    "    )\n",
    ")"
   ]
  },
  {
   "cell_type": "code",
   "execution_count": 12,
   "id": "f9f89e5b-69f3-46a6-bf4e-d7beb7803d03",
   "metadata": {
    "tags": []
   },
   "outputs": [
    {
     "data": {
      "text/plain": [
       "\"( input.user.role = 'boss' )\""
      ]
     },
     "execution_count": 12,
     "metadata": {},
     "output_type": "execute_result"
    }
   ],
   "source": [
    "# find list of users who are allowed access outside business hours\n",
    "is_allowed(Dict(\n",
    "        \"hourofday\" => 1,\n",
    "        \"dayofweek\" => 2,\n",
    "        \"is_audit_time\" => false,\n",
    "        \"is_logged_in\" => true,\n",
    "    )\n",
    ")"
   ]
  },
  {
   "cell_type": "code",
   "execution_count": 13,
   "id": "94dc7c77-a545-4076-a5f3-77a7f0056ce7",
   "metadata": {
    "tags": []
   },
   "outputs": [],
   "source": [
    "# Stop the OPA server\n",
    "OpenPolicyAgent.Server.stop!(opa_server)"
   ]
  },
  {
   "cell_type": "code",
   "execution_count": null,
   "id": "f90894ff-35ea-4ba6-9d54-99b436173c1e",
   "metadata": {},
   "outputs": [],
   "source": []
  }
 ],
 "metadata": {
  "kernelspec": {
   "display_name": "Julia 1.10.4",
   "language": "julia",
   "name": "julia-1.10"
  },
  "language_info": {
   "file_extension": ".jl",
   "mimetype": "application/julia",
   "name": "julia",
   "version": "1.10.4"
  }
 },
 "nbformat": 4,
 "nbformat_minor": 5
}
