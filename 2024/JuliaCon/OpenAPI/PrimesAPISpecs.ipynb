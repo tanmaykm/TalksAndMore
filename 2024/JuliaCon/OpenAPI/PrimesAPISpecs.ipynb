{
 "cells": [
  {
   "cell_type": "markdown",
   "id": "d213a27d-0c83-4b84-9ed0-0fb51b8ca565",
   "metadata": {},
   "source": [
    "# Create OpenAPI Specification for a Demo Prime Number Service\n",
    "\n",
    "What we shall attempt here is to create a web service that can generate a list of prime numbers.\n",
    "We shall use the \"Primes\" package to do that."
   ]
  },
  {
   "cell_type": "code",
   "execution_count": 1,
   "id": "415e3692-cd08-46fb-8961-c931cb55be19",
   "metadata": {
    "tags": []
   },
   "outputs": [],
   "source": [
    "using OpenAPI, JSON"
   ]
  },
  {
   "cell_type": "code",
   "execution_count": 2,
   "id": "00625f60-c35b-48ef-997a-6e8917856ead",
   "metadata": {
    "tags": []
   },
   "outputs": [],
   "source": [
    "# Clean up before starting\n",
    "rm(\"PrimesClient\"; force=true, recursive=true)\n",
    "rm(\"PrimesServer\"; force=true, recursive=true)"
   ]
  },
  {
   "cell_type": "markdown",
   "id": "e733ee25-e745-4d8b-83f7-1bc73c37ad7f",
   "metadata": {},
   "source": [
    "API specification is a JSON/YAML file. So it can be edited with any editor.\n",
    "\n",
    "There are many API editing tools available to assist. The OpenAPI.jl package has an in-built method to invoke the Swagger editor tool."
   ]
  },
  {
   "cell_type": "code",
   "execution_count": 3,
   "id": "d3b72010-5a7c-4705-96c3-8d2141d40d02",
   "metadata": {
    "tags": []
   },
   "outputs": [
    {
     "name": "stdout",
     "output_type": "stream",
     "text": [
      "e428571618c95d9ee3cb8914a68e17d0454c82fda0320d93bb12c216a370c7b2\n"
     ]
    },
    {
     "data": {
      "text/plain": [
       "\"http://localhost:8080\""
      ]
     },
     "execution_count": 3,
     "metadata": {},
     "output_type": "execute_result"
    }
   ],
   "source": [
    "OpenAPI.swagger_editor(\"specifications/primes.json\")"
   ]
  },
  {
   "cell_type": "code",
   "execution_count": 4,
   "id": "44942ae6-ded1-4dc9-a2ce-60b893ef65c4",
   "metadata": {
    "tags": []
   },
   "outputs": [],
   "source": [
    "OpenAPI.stop_swagger();"
   ]
  },
  {
   "cell_type": "code",
   "execution_count": 5,
   "id": "1f935463-d2f9-422e-bfeb-023ddaec8dae",
   "metadata": {
    "tags": []
   },
   "outputs": [
    {
     "name": "stdout",
     "output_type": "stream",
     "text": [
      "50c817d7577a80f2579dc2b5e1ea84181f32a75577055d574ed922ad260ac41a\n"
     ]
    },
    {
     "data": {
      "text/plain": [
       "\"http://localhost:8080\""
      ]
     },
     "execution_count": 5,
     "metadata": {},
     "output_type": "execute_result"
    }
   ],
   "source": [
    "# Start the codegen service\n",
    "OpenAPI.openapi_generator()"
   ]
  },
  {
   "cell_type": "code",
   "execution_count": 6,
   "id": "feba2021-4cf1-48a3-98a6-56fb2f8a9569",
   "metadata": {
    "tags": []
   },
   "outputs": [
    {
     "name": "stdout",
     "output_type": "stream",
     "text": [
      "\n",
      "7-Zip (a) [64] 17.04 : Copyright (c) 1999-2021 Igor Pavlov : 2017-08-28\n",
      "p7zip Version 17.04 (locale=en_US.UTF-8,Utf16=on,HugeFiles=on,64 bits,12 CPUs Intel(R) Core(TM) i7-9750H CPU @ 2.60GHz (906EA),ASM,AES-NI)\n",
      "\n",
      "Scanning the drive for archives:\n",
      "1 file, 6343 bytes (7 KiB)\n",
      "\n",
      "Extracting archive: /tmp/jl_4opdK8/generated.zip\n",
      "--\n",
      "Path = /tmp/jl_4opdK8/generated.zip\n",
      "Type = zip\n",
      "Physical Size = 6343\n",
      "\n",
      "Everything is Ok\n",
      "\n",
      "Files: 12\n",
      "Size:       9507\n",
      "Compressed: 6343\n",
      "\n",
      "7-Zip (a) [64] 17.04 : Copyright (c) 1999-2021 Igor Pavlov : 2017-08-28\n",
      "p7zip Version 17.04 (locale=en_US.UTF-8,Utf16=on,HugeFiles=on,64 bits,12 CPUs Intel(R) Core(TM) i7-9750H CPU @ 2.60GHz (906EA),ASM,AES-NI)\n",
      "\n",
      "Scanning the drive for archives:\n",
      "1 file, 6943 bytes (7 KiB)\n",
      "\n",
      "Extracting archive: /tmp/jl_LCvnPc/generated.zip\n",
      "--\n",
      "Path = /tmp/jl_LCvnPc/generated.zip\n",
      "Type = zip\n",
      "Physical Size = 6943\n",
      "\n",
      "Everything is Ok\n",
      "\n",
      "Files: 12\n",
      "Size:       11032\n",
      "Compressed: 6943\n"
     ]
    }
   ],
   "source": [
    "# Generate both client and server from API specifications\n",
    "spec = JSON.parsefile(\"specifications/primes.json\")\n",
    "OpenAPI.generate(spec;\n",
    "    type=:client,\n",
    "    package_name=\"PrimesClient\",\n",
    "    output_dir=\"PrimesClient\",\n",
    ");\n",
    "OpenAPI.generate(spec;\n",
    "    type=:server,\n",
    "    package_name=\"PrimesServer\",\n",
    "    output_dir=\"PrimesServer\",\n",
    ");"
   ]
  },
  {
   "cell_type": "code",
   "execution_count": 7,
   "id": "965270f7-a96b-4526-82c6-146773709e8f",
   "metadata": {
    "tags": []
   },
   "outputs": [],
   "source": [
    "# Stop the codegen service\n",
    "OpenAPI.stop_openapi_generator();"
   ]
  }
 ],
 "metadata": {
  "kernelspec": {
   "display_name": "Julia 1.10.4",
   "language": "julia",
   "name": "julia-1.10"
  },
  "language_info": {
   "file_extension": ".jl",
   "mimetype": "application/julia",
   "name": "julia",
   "version": "1.10.4"
  }
 },
 "nbformat": 4,
 "nbformat_minor": 5
}
