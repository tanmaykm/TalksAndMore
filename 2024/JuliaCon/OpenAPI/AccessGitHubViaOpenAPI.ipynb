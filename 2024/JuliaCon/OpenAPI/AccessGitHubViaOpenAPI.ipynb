{
 "cells": [
  {
   "cell_type": "markdown",
   "id": "6af9918c-43eb-4346-bfe1-e55b1c95b6b9",
   "metadata": {},
   "source": [
    "# Access GitHub via OpenAPI\n",
    "\n",
    "In this notebook we shall attempt to access GitHub via their OpenAPI interface.\n",
    "\n",
    "Steps:\n",
    "1. Fetch GitHub OpenAPI specification\n",
    "2. Examine the specification\n",
    "3. Generate a Julia client package using that\n",
    "4. Examine the generated code\n",
    "5. Examine the generated docs\n",
    "6. Use it!"
   ]
  },
  {
   "cell_type": "code",
   "execution_count": 1,
   "id": "4d65ca8d-c3ba-4487-a168-5f43155e8cf7",
   "metadata": {
    "tags": []
   },
   "outputs": [],
   "source": [
    "# Clean up before starting\n",
    "rm(\"GitHubClient\"; force=true, recursive=true)\n",
    "# Add required packages\n",
    "# Pkg.add([\"OpenAPI\", \"JSON\"])"
   ]
  },
  {
   "cell_type": "code",
   "execution_count": 2,
   "id": "b06b3b41-6012-4251-8cc4-e0bfbb2d38f2",
   "metadata": {
    "tags": []
   },
   "outputs": [],
   "source": [
    "using Downloads, OpenAPI, JSON"
   ]
  },
  {
   "cell_type": "markdown",
   "id": "fa1666c2-f6dd-4fd7-82d2-c9129070a675",
   "metadata": {},
   "source": [
    "## Fetch the specification\n",
    "\n",
    "GitHub makes available their OpenAPI specification at:\n",
    "https://github.com/github/rest-api-description"
   ]
  },
  {
   "cell_type": "code",
   "execution_count": 3,
   "id": "fa39b3ad-c502-474d-abf9-8e6089d9fc30",
   "metadata": {
    "tags": []
   },
   "outputs": [],
   "source": [
    "spec_file = \"specifications/api.github.com.json\" \n",
    "spec_source = \"https://raw.githubusercontent.com/github/rest-api-description/main/descriptions/api.github.com/api.github.com.json\"\n",
    "\n",
    "if !isfile(spec_file)\n",
    "    Downloads.download(spec_source, spec_file)\n",
    "end"
   ]
  },
  {
   "cell_type": "markdown",
   "id": "541d71c4-f36e-43a8-9e1f-6a34f4962d76",
   "metadata": {},
   "source": [
    "## Examine the specification\n",
    "\n",
    "We can examine the API specifications\n",
    "- Either by opening the JSON specification directly\n",
    "- Or by opening it in some tool, e.g. the Swagger UI\n",
    "\n",
    "The Swagger UI tool can be invoked using the OpenAPI package. It uses docker to launch the Swagger tools container, which provides the UI."
   ]
  },
  {
   "cell_type": "code",
   "execution_count": 4,
   "id": "14ac57f3-cd1d-47b8-9eb5-83ec63035707",
   "metadata": {
    "tags": []
   },
   "outputs": [
    {
     "name": "stdout",
     "output_type": "stream",
     "text": [
      "29278e132ad4afa9f4e4e18408aaaf0f49e319cde02858d78ba55b8bf2fadeeb\n"
     ]
    },
    {
     "data": {
      "text/plain": [
       "\"http://localhost:8080\""
      ]
     },
     "execution_count": 4,
     "metadata": {},
     "output_type": "execute_result"
    }
   ],
   "source": [
    "# Examine API specifications\n",
    "OpenAPI.swagger_ui(\"specifications/api.github.com.json\")"
   ]
  },
  {
   "cell_type": "code",
   "execution_count": 5,
   "id": "c56d9c9b-2957-42ed-80ed-93bd2188316a",
   "metadata": {
    "tags": []
   },
   "outputs": [],
   "source": [
    "# Stop the UI\n",
    "OpenAPI.stop_swagger();"
   ]
  },
  {
   "cell_type": "markdown",
   "id": "25443930-465b-4795-9c55-2e6afc190cce",
   "metadata": {},
   "source": [
    "## Code generation\n",
    "\n",
    "Use openapi-generator to generate the Julia package.\n",
    "It is available bundled in a convenient docker image,\n",
    "which lets us use it without having to install anything."
   ]
  },
  {
   "cell_type": "code",
   "execution_count": 6,
   "id": "32e0f28d-a27d-4356-9675-a86f7e4392b6",
   "metadata": {
    "tags": []
   },
   "outputs": [
    {
     "name": "stdout",
     "output_type": "stream",
     "text": [
      "a1ee91f5b289d658fed6f1db91484c2181524e05ea6db9831eac354506b7c358\n"
     ]
    },
    {
     "data": {
      "text/plain": [
       "\"http://localhost:8080\""
      ]
     },
     "execution_count": 6,
     "metadata": {},
     "output_type": "execute_result"
    }
   ],
   "source": [
    "# Start the codegen service\n",
    "OpenAPI.openapi_generator()"
   ]
  },
  {
   "cell_type": "code",
   "execution_count": 7,
   "id": "ee59f394-12ac-4242-875d-92fded84fce9",
   "metadata": {
    "tags": []
   },
   "outputs": [
    {
     "name": "stdout",
     "output_type": "stream",
     "text": [
      "\n",
      "7-Zip (a) [64] 17.04 : Copyright (c) 1999-2021 Igor Pavlov : 2017-08-28\n",
      "p7zip Version 17.04 (locale=en_US.UTF-8,Utf16=on,HugeFiles=on,64 bits,12 CPUs Intel(R) Core(TM) i7-9750H CPU @ 2.60GHz (906EA),ASM,AES-NI)\n",
      "\n",
      "Scanning the drive for archives:\n",
      "1 file, 2775236 bytes (2711 KiB)\n",
      "\n",
      "Extracting archive: /tmp/jl_OPqacT/generated.zip\n",
      "--\n",
      "Path = /tmp/jl_OPqacT/generated.zip\n",
      "Type = zip\n",
      "Physical Size = 2775236\n",
      "\n",
      "Everything is Ok\n",
      "\n",
      "Files: 2956\n",
      "Size:       11302300\n",
      "Compressed: 2775236\n"
     ]
    }
   ],
   "source": [
    "spec = JSON.parsefile(\"specifications/api.github.com.json\")\n",
    "OpenAPI.generate(spec;\n",
    "    type=:client,\n",
    "    package_name=\"GitHubClient\",\n",
    "    output_dir=\"GitHubClient\",\n",
    ");"
   ]
  },
  {
   "cell_type": "code",
   "execution_count": 8,
   "id": "19c712d8-724d-4441-b1cb-8da9c2feddf9",
   "metadata": {
    "tags": []
   },
   "outputs": [
    {
     "data": {
      "text/plain": [
       "true"
      ]
     },
     "execution_count": 8,
     "metadata": {},
     "output_type": "execute_result"
    }
   ],
   "source": [
    "# Stop the codegen service\n",
    "OpenAPI.stop_openapi_generator();"
   ]
  },
  {
   "cell_type": "markdown",
   "id": "0974077e-2d37-4825-8a14-7f352afc199d",
   "metadata": {},
   "source": [
    "## Examine the generated code\n",
    "\n",
    "The code is generated as a Julia module.\n",
    "The module can be embedded into another package.\n",
    "\n",
    "Or it can also be registered directly as a Julia package on its own. Just need to add Project.toml.\n",
    "\n",
    "README.md contains docs for all APIs."
   ]
  },
  {
   "cell_type": "code",
   "execution_count": 9,
   "id": "4f7b0cce-cfd3-448c-a879-57696e8469c8",
   "metadata": {},
   "outputs": [
    {
     "name": "stdout",
     "output_type": "stream",
     "text": [
      "total 392\n",
      "drwxrwxr-x 5 tan tan   4096 Jul  6 09:37 .\n",
      "drwxrwxr-x 5 tan tan   4096 Jul  6 09:38 ..\n",
      "drwxrwxr-x 2 tan tan  90112 Jul  6 09:37 docs\n",
      "drwxrwxr-x 2 tan tan   4096 Jul  6 09:37 .openapi-generator\n",
      "-rw-rw-r-- 1 tan tan   1040 Jul  6 09:37 .openapi-generator-ignore\n",
      "-rw-rw-r-- 1 tan tan 283195 Jul  6 09:37 README.md\n",
      "drwxrwxr-x 4 tan tan   4096 Jul  6 09:37 src\n"
     ]
    }
   ],
   "source": [
    "run(`ls -la GitHubClient`);"
   ]
  },
  {
   "cell_type": "code",
   "execution_count": 10,
   "id": "2e93cc96-93c8-47d6-98cf-330bdd7a883d",
   "metadata": {},
   "outputs": [
    {
     "name": "stdout",
     "output_type": "stream",
     "text": [
      "total 204\n",
      "drwxrwxr-x 4 tan tan   4096 Jul  6 09:37 .\n",
      "drwxrwxr-x 5 tan tan   4096 Jul  6 09:37 ..\n",
      "drwxrwxr-x 2 tan tan   4096 Jul  6 09:37 apis\n",
      "-rw-rw-r-- 1 tan tan   1462 Jul  6 09:37 GitHubClient.jl\n",
      "-rw-rw-r-- 1 tan tan  81211 Jul  6 09:37 modelincludes.jl\n",
      "drwxrwxr-x 2 tan tan 106496 Jul  6 09:37 models\n"
     ]
    }
   ],
   "source": [
    "run(`ls -la GitHubClient/src`);"
   ]
  },
  {
   "cell_type": "markdown",
   "id": "69f88e4c-7457-495f-b666-df261294fe29",
   "metadata": {
    "tags": []
   },
   "source": [
    "## Use Generated Package to Invoke APIs\n",
    "\n",
    "The APIs can be invoked just like Julia methods.\n",
    "All the HTTP/REST communication and serialization and deserialization are handled transparently."
   ]
  },
  {
   "cell_type": "code",
   "execution_count": 11,
   "id": "c13edc42-1b2e-4bd2-aaf6-2722070c4305",
   "metadata": {
    "tags": []
   },
   "outputs": [],
   "source": [
    "include(\"GitHubClient/src/GitHubClient.jl\")\n",
    "using .GitHubClient"
   ]
  },
  {
   "cell_type": "code",
   "execution_count": 12,
   "id": "f7ef5e26-370b-460a-9eaf-a58bcd8a891b",
   "metadata": {
    "tags": []
   },
   "outputs": [],
   "source": [
    "# Create a client for the API group which has the API of interest\n",
    "client = OpenAPI.Clients.Client(GitHubClient.basepath(GitHubClient.ReposApi));\n",
    "reposapi = GitHubClient.ReposApi(client);"
   ]
  },
  {
   "cell_type": "code",
   "execution_count": 13,
   "id": "da91fc0b-0772-4cd0-8043-7b2d84a83647",
   "metadata": {
    "tags": []
   },
   "outputs": [
    {
     "data": {
      "text/plain": [
       "{\n",
       "  \"pulls_url\": \"https://api.github.com/repos/JuliaLang/julia/pulls{/number}\",\n",
       "  \"organization\": {\n",
       "    \"repos_url\": \"https://api.github.com/users/JuliaLang/repos\",\n",
       "    \"login\": \"JuliaLang\",\n",
       "    \"gists_url\": \"https://api.github.com/users/JuliaLang/gists{/gist_id}\",\n",
       "    \"site_admin\": false,\n",
       "    \"subscriptions_url\": \"https://api.github.com/users/JuliaLang/subscriptions\",\n",
       "    \"id\": 743164,\n",
       "    \"html_url\": \"https://github.com/JuliaLang\",\n",
       "    \"node_id\": \"MDEyOk9yZ2FuaXphdGlvbjc0MzE2NA==\",\n",
       "    \"followers_url\": \"https://api.github.com/users/JuliaLang/followers\",\n",
       "    \"organizations_url\": \"https://api.github.com/users/JuliaLang/orgs\",\n",
       "    \"starred_url\": \"https://api.github.com/users/JuliaLang/starred{/owner}{/repo}\",\n",
       "    \"avatar_url\": \"https://avatars.githubusercontent.com/u/743164?v=4\",\n",
       "    \"events_url\": \"https://api.github.com/users/JuliaLang/events{/privacy}\",\n",
       "    \"url\": \"https://api.github.com/users/JuliaLang\",\n",
       "    \"received_events_url\": \"https://api.github.com/users/JuliaLang/received_events\",\n",
       "    \"type\": \"Organization\",\n",
       "    \"following_url\": \"https://api.github.com/users/JuliaLang/following{/other_user}\",\n",
       "    \"gravatar_id\": \"\"\n",
       "  },\n",
       "  \"keys_url\": \"https://api.github.com/repos/JuliaLang/julia/keys{/key_id}\",\n",
       "  \"network_count\": 5424,\n",
       "  \"html_url\": \"https://github.com/JuliaLang/julia\",\n",
       "  \"comments_url\": \"https://api.github.com/repos/JuliaLang/julia/comments{/number}\",\n",
       "  \"tags_url\": \"https://api.github.com/repos/JuliaLang/julia/tags\",\n",
       "  \"svn_url\": \"https://github.com/JuliaLang/julia\",\n",
       "  \"statuses_url\": \"https://api.github.com/repos/JuliaLang/julia/statuses/{sha}\",\n",
       "  \"archive_url\": \"https://api.github.com/repos/JuliaLang/julia/{archive_format}{/ref}\",\n",
       "  \"fork\": false,\n",
       "  \"has_discussions\": true,\n",
       "  \"web_commit_signoff_required\": false,\n",
       "  \"watchers\": 44965,\n",
       "  \"contents_url\": \"https://api.github.com/repos/JuliaLang/julia/contents/{+path}\",\n",
       "  \"disabled\": false,\n",
       "  \"labels_url\": \"https://api.github.com/repos/JuliaLang/julia/labels{/name}\",\n",
       "  \"forks_count\": 5424,\n",
       "  \"open_issues\": 5048,\n",
       "  \"issues_url\": \"https://api.github.com/repos/JuliaLang/julia/issues{/number}\",\n",
       "  \"homepage\": \"https://julialang.org/\",\n",
       "  \"language\": \"Julia\",\n",
       "  \"has_downloads\": true,\n",
       "  \"collaborators_url\": \"https://api.github.com/repos/JuliaLang/julia/collaborators{/collaborator}\",\n",
       "  \"name\": \"julia\",\n",
       "  \"deployments_url\": \"https://api.github.com/repos/JuliaLang/julia/deployments\",\n",
       "  \"owner\": {\n",
       "    \"repos_url\": \"https://api.github.com/users/JuliaLang/repos\",\n",
       "    \"login\": \"JuliaLang\",\n",
       "    \"gists_url\": \"https://api.github.com/users/JuliaLang/gists{/gist_id}\",\n",
       "    \"site_admin\": false,\n",
       "    \"subscriptions_url\": \"https://api.github.com/users/JuliaLang/subscriptions\",\n",
       "    \"id\": 743164,\n",
       "    \"html_url\": \"https://github.com/JuliaLang\",\n",
       "    \"node_id\": \"MDEyOk9yZ2FuaXphdGlvbjc0MzE2NA==\",\n",
       "    \"followers_url\": \"https://api.github.com/users/JuliaLang/followers\",\n",
       "    \"organizations_url\": \"https://api.github.com/users/JuliaLang/orgs\",\n",
       "    \"starred_url\": \"https://api.github.com/users/JuliaLang/starred{/owner}{/repo}\",\n",
       "    \"avatar_url\": \"https://avatars.githubusercontent.com/u/743164?v=4\",\n",
       "    \"events_url\": \"https://api.github.com/users/JuliaLang/events{/privacy}\",\n",
       "    \"url\": \"https://api.github.com/users/JuliaLang\",\n",
       "    \"received_events_url\": \"https://api.github.com/users/JuliaLang/received_events\",\n",
       "    \"type\": \"Organization\",\n",
       "    \"following_url\": \"https://api.github.com/users/JuliaLang/following{/other_user}\",\n",
       "    \"gravatar_id\": \"\"\n",
       "  },\n",
       "  \"node_id\": \"MDEwOlJlcG9zaXRvcnkxNjQ0MTk2\",\n",
       "  \"stargazers_url\": \"https://api.github.com/repos/JuliaLang/julia/stargazers\",\n",
       "  \"updated_at\": \"2024-07-06T01:47:57+00:00\",\n",
       "  \"branches_url\": \"https://api.github.com/repos/JuliaLang/julia/branches{/branch}\",\n",
       "  \"subscribers_url\": \"https://api.github.com/repos/JuliaLang/julia/subscribers\",\n",
       "  \"stargazers_count\": 44965,\n",
       "  \"notifications_url\": \"https://api.github.com/repos/JuliaLang/julia/notifications{?since,all,participating}\",\n",
       "  \"url\": \"https://api.github.com/repos/JuliaLang/julia\",\n",
       "  \"license\": {\n",
       "    \"key\": \"mit\",\n",
       "    \"name\": \"MIT License\",\n",
       "    \"spdx_id\": \"MIT\",\n",
       "    \"node_id\": \"MDc6TGljZW5zZTEz\",\n",
       "    \"url\": \"https://api.github.com/licenses/mit\"\n",
       "  },\n",
       "  \"compare_url\": \"https://api.github.com/repos/JuliaLang/julia/compare/{base}...{head}\",\n",
       "  \"subscribers_count\": 929,\n",
       "  \"contributors_url\": \"https://api.github.com/repos/JuliaLang/julia/contributors\",\n",
       "  \"downloads_url\": \"https://api.github.com/repos/JuliaLang/julia/downloads\",\n",
       "  \"visibility\": \"public\",\n",
       "  \"forks_url\": \"https://api.github.com/repos/JuliaLang/julia/forks\",\n",
       "  \"open_issues_count\": 5048,\n",
       "  \"forks\": 5424,\n",
       "  \"hooks_url\": \"https://api.github.com/repos/JuliaLang/julia/hooks\",\n",
       "  \"id\": 1644196,\n",
       "  \"git_tags_url\": \"https://api.github.com/repos/JuliaLang/julia/git/tags{/sha}\",\n",
       "  \"events_url\": \"https://api.github.com/repos/JuliaLang/julia/events\",\n",
       "  \"git_refs_url\": \"https://api.github.com/repos/JuliaLang/julia/git/refs{/sha}\",\n",
       "  \"milestones_url\": \"https://api.github.com/repos/JuliaLang/julia/milestones{/number}\",\n",
       "  \"anonymous_access_enabled\": true,\n",
       "  \"full_name\": \"JuliaLang/julia\",\n",
       "  \"default_branch\": \"master\",\n",
       "  \"has_issues\": true,\n",
       "  \"blobs_url\": \"https://api.github.com/repos/JuliaLang/julia/git/blobs{/sha}\",\n",
       "  \"git_url\": \"git://github.com/JuliaLang/julia.git\",\n",
       "  \"ssh_url\": \"git@github.com:JuliaLang/julia.git\",\n",
       "  \"teams_url\": \"https://api.github.com/repos/JuliaLang/julia/teams\",\n",
       "  \"is_template\": false,\n",
       "  \"has_projects\": false,\n",
       "  \"merges_url\": \"https://api.github.com/repos/JuliaLang/julia/merges\",\n",
       "  \"trees_url\": \"https://api.github.com/repos/JuliaLang/julia/git/trees{/sha}\",\n",
       "  \"created_at\": \"2011-04-21T07:01:50+00:00\",\n",
       "  \"assignees_url\": \"https://api.github.com/repos/JuliaLang/julia/assignees{/user}\",\n",
       "  \"languages_url\": \"https://api.github.com/repos/JuliaLang/julia/languages\",\n",
       "  \"allow_forking\": true,\n",
       "  \"commits_url\": \"https://api.github.com/repos/JuliaLang/julia/commits{/sha}\",\n",
       "  \"subscription_url\": \"https://api.github.com/repos/JuliaLang/julia/subscription\",\n",
       "  \"watchers_count\": 44965,\n",
       "  \"archived\": false,\n",
       "  \"topics\": [\n",
       "    \"hacktoberfest\",\n",
       "    \"hpc\",\n",
       "    \"julia\",\n",
       "    \"julia-language\",\n",
       "    \"julialang\",\n",
       "    \"machine-learning\",\n",
       "    \"numerical\",\n",
       "    \"programming-language\",\n",
       "    \"science\",\n",
       "    \"scientific\"\n",
       "  ],\n",
       "  \"private\": false,\n",
       "  \"description\": \"The Julia Programming Language\",\n",
       "  \"releases_url\": \"https://api.github.com/repos/JuliaLang/julia/releases{/id}\",\n",
       "  \"size\": 306729,\n",
       "  \"git_commits_url\": \"https://api.github.com/repos/JuliaLang/julia/git/commits{/sha}\",\n",
       "  \"has_pages\": false,\n",
       "  \"issue_events_url\": \"https://api.github.com/repos/JuliaLang/julia/issues/events{/number}\",\n",
       "  \"issue_comment_url\": \"https://api.github.com/repos/JuliaLang/julia/issues/comments{/number}\",\n",
       "  \"clone_url\": \"https://github.com/JuliaLang/julia.git\",\n",
       "  \"pushed_at\": \"2024-07-06T03:10:33+00:00\",\n",
       "  \"has_wiki\": false\n",
       "}\n"
      ]
     },
     "execution_count": 13,
     "metadata": {},
     "output_type": "execute_result"
    }
   ],
   "source": [
    "# Invoke APIs as regular Julia methods\n",
    "# API responds with the results converted to a Julia type\n",
    "# It also returns the raw HTTP response as the second return value, for advanced use\n",
    "julia_repo, _api_resp = GitHubClient.repos_get(reposapi, \"julialang\", \"julia\")\n",
    "\n",
    "julia_repo"
   ]
  },
  {
   "cell_type": "code",
   "execution_count": 14,
   "id": "1ebb52ad-9d0c-4b7a-a649-5805b26d77fc",
   "metadata": {
    "tags": []
   },
   "outputs": [
    {
     "name": "stdout",
     "output_type": "stream",
     "text": [
      "The julia repo has 44965 stars!\n"
     ]
    }
   ],
   "source": [
    "# The return value is made available as a Julia struct\n",
    "\n",
    "println(\"The \", julia_repo.name, \" repo has \", julia_repo.stargazers_count, \" stars!\")"
   ]
  },
  {
   "cell_type": "code",
   "execution_count": 15,
   "id": "7c242da0-3a61-4d49-99ca-9f373035f8e3",
   "metadata": {
    "tags": []
   },
   "outputs": [],
   "source": [
    "# Clean up before closing\n",
    "rm(\"GitHubClient\"; force=true, recursive=true)"
   ]
  }
 ],
 "metadata": {
  "kernelspec": {
   "display_name": "Julia 1.10.4",
   "language": "julia",
   "name": "julia-1.10"
  },
  "language_info": {
   "file_extension": ".jl",
   "mimetype": "application/julia",
   "name": "julia",
   "version": "1.10.4"
  }
 },
 "nbformat": 4,
 "nbformat_minor": 5
}
