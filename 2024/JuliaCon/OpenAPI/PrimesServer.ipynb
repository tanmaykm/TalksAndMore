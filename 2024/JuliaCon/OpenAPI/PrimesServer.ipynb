{
 "cells": [
  {
   "cell_type": "markdown",
   "id": "a023502d-4fec-4b4c-b823-0353e3d5eccc",
   "metadata": {},
   "source": [
    "# Prime Numbers Service - Produce Primes\n",
    "\n",
    "Implement the Primes Web Service and Serve OpenAPI Endpoint.\n",
    "\n",
    "Along with OpenAPI, we are going to use the Primes package, which provides the methods related to prime numbers. We shall also use HTTP package to host our service."
   ]
  },
  {
   "cell_type": "code",
   "execution_count": 1,
   "id": "21d130e0-f23c-46da-b428-0626af8a0da6",
   "metadata": {
    "tags": []
   },
   "outputs": [],
   "source": [
    "using HTTP, OpenAPI, Primes"
   ]
  },
  {
   "cell_type": "code",
   "execution_count": 2,
   "id": "9d453ee0-d0a2-40f8-8b05-98e7b7598295",
   "metadata": {
    "tags": []
   },
   "outputs": [
    {
     "name": "stdout",
     "output_type": "stream",
     "text": [
      "PrimesServer/src\n",
      "PrimesServer/src/PrimesServer.jl\n",
      "PrimesServer/src/apis\n",
      "PrimesServer/src/apis/api_GenerateApi.jl\n",
      "PrimesServer/src/models\n",
      "PrimesServer/src/models/model_PrimesInRange.jl\n",
      "PrimesServer/src/models/model_PrimesInRangeRequest.jl\n",
      "PrimesServer/src/modelincludes.jl\n"
     ]
    }
   ],
   "source": [
    "run(`find PrimesServer/src`);"
   ]
  },
  {
   "cell_type": "code",
   "execution_count": 3,
   "id": "ddd2b4a6-02af-4e5c-abb2-bdc45fbd085c",
   "metadata": {
    "tags": []
   },
   "outputs": [],
   "source": [
    "include(\"PrimesServer/src/PrimesServer.jl\")\n",
    "using .PrimesServer\n",
    "import .PrimesServer: PrimesInRangeRequest, PrimesInRange"
   ]
  },
  {
   "cell_type": "code",
   "execution_count": 4,
   "id": "018c6e5f-63c9-42e3-b47b-aa02231a653a",
   "metadata": {
    "tags": []
   },
   "outputs": [],
   "source": [
    "# Implement the server methods\n",
    "# Signatures indicated in generated server module\n",
    "\n",
    "# **generate_in_range**\n",
    "# *invocation:* POST /generate/range\n",
    "function generate_in_range(req::HTTP.Request, primes_in_range_request::PrimesInRangeRequest)\n",
    "    primes = Primes.primes(\n",
    "        primes_in_range_request.from,\n",
    "        primes_in_range_request.to\n",
    "    )\n",
    "    return PrimesInRange(; primes=primes)\n",
    "end;"
   ]
  },
  {
   "cell_type": "code",
   "execution_count": 5,
   "id": "57434a68-5de0-4e95-8317-7afdc2132fa0",
   "metadata": {
    "tags": []
   },
   "outputs": [],
   "source": [
    "# Create a HTTP.jl Router instance and register endpoints\n",
    "\n",
    "router = PrimesServer.register(\n",
    "    HTTP.Router(),\n",
    "    @__MODULE__\n",
    ");"
   ]
  },
  {
   "cell_type": "code",
   "execution_count": 6,
   "id": "6f666c39-8f08-4c06-a603-fae2222512f5",
   "metadata": {
    "tags": []
   },
   "outputs": [
    {
     "name": "stderr",
     "output_type": "stream",
     "text": [
      "\u001b[36m\u001b[1m[ \u001b[22m\u001b[39m\u001b[36m\u001b[1mInfo: \u001b[22m\u001b[39mListening on: 127.0.0.1:9999, thread id: 1\n"
     ]
    }
   ],
   "source": [
    "# Run server!\n",
    "\n",
    "server = Ref{Any}(nothing)\n",
    "server[] = HTTP.serve!(router, 9999);\n",
    "# wait(server[])"
   ]
  },
  {
   "cell_type": "code",
   "execution_count": 7,
   "id": "8aab491a-f1c8-4a69-8190-5210ecc90a0a",
   "metadata": {
    "tags": []
   },
   "outputs": [
    {
     "name": "stderr",
     "output_type": "stream",
     "text": [
      "\u001b[36m\u001b[1m[ \u001b[22m\u001b[39m\u001b[36m\u001b[1mInfo: \u001b[22m\u001b[39mServer on 127.0.0.1:9999 closing\n"
     ]
    }
   ],
   "source": [
    "# Shutdown server\n",
    "\n",
    "HTTP.close(server[])"
   ]
  },
  {
   "cell_type": "code",
   "execution_count": null,
   "id": "3fd13a19-7880-477a-8add-4c14de5519c2",
   "metadata": {},
   "outputs": [],
   "source": []
  }
 ],
 "metadata": {
  "kernelspec": {
   "display_name": "Julia 1.10.4",
   "language": "julia",
   "name": "julia-1.10"
  },
  "language_info": {
   "file_extension": ".jl",
   "mimetype": "application/julia",
   "name": "julia",
   "version": "1.10.4"
  }
 },
 "nbformat": 4,
 "nbformat_minor": 5
}
