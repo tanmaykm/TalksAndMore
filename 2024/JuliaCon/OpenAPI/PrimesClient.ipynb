{
 "cells": [
  {
   "cell_type": "markdown",
   "id": "ea25bf50-8d23-4e31-924b-47cc895c9634",
   "metadata": {},
   "source": [
    "# Consume Prime Numbers Service"
   ]
  },
  {
   "cell_type": "code",
   "execution_count": 1,
   "id": "e464771f-9f67-4423-8843-531d7be3ebad",
   "metadata": {
    "tags": []
   },
   "outputs": [],
   "source": [
    "using OpenAPI"
   ]
  },
  {
   "cell_type": "code",
   "execution_count": 2,
   "id": "5f50dad8-4948-4a7b-af6c-c6b934413175",
   "metadata": {
    "tags": []
   },
   "outputs": [],
   "source": [
    "# Use the generated PrimesClient package\n",
    "\n",
    "include(\"PrimesClient/src/PrimesClient.jl\")\n",
    "using .PrimesClient"
   ]
  },
  {
   "cell_type": "code",
   "execution_count": 3,
   "id": "0f48e4ec-77b5-488f-8c07-5c9c6827f8b4",
   "metadata": {
    "tags": []
   },
   "outputs": [],
   "source": [
    "# Create an API client instance\n",
    "\n",
    "client = OpenAPI.Clients.Client(PrimesClient.basepath(PrimesClient.GenerateApi));\n",
    "generateapi = PrimesClient.GenerateApi(client);"
   ]
  },
  {
   "cell_type": "code",
   "execution_count": 4,
   "id": "99c75428-1bca-4559-8c47-5e875716fc6f",
   "metadata": {
    "tags": []
   },
   "outputs": [],
   "source": [
    "# the range in which we need primes\n",
    "range = PrimesClient.PrimesInRangeRequest(\n",
    "    from = 5,\n",
    "    to = 20,\n",
    ");"
   ]
  },
  {
   "cell_type": "code",
   "execution_count": 5,
   "id": "3efac17e-4640-4d66-b0fe-c7c582151bf3",
   "metadata": {
    "tags": []
   },
   "outputs": [
    {
     "data": {
      "text/plain": [
       "6-element Vector{Int64}:\n",
       "  5\n",
       "  7\n",
       " 11\n",
       " 13\n",
       " 17\n",
       " 19"
      ]
     },
     "execution_count": 5,
     "metadata": {},
     "output_type": "execute_result"
    }
   ],
   "source": [
    "# Invoke APIs as regular Julia methods\n",
    "# API responds with the results converted to a Julia type, and the \n",
    "primes_list, _api_resp = PrimesClient.generate_in_range(generateapi, range)\n",
    "primes_list.primes"
   ]
  },
  {
   "cell_type": "code",
   "execution_count": null,
   "id": "f8a71a24-88d2-4c93-9bb9-8b1088ebe214",
   "metadata": {},
   "outputs": [],
   "source": []
  }
 ],
 "metadata": {
  "kernelspec": {
   "display_name": "Julia 1.10.4",
   "language": "julia",
   "name": "julia-1.10"
  },
  "language_info": {
   "file_extension": ".jl",
   "mimetype": "application/julia",
   "name": "julia",
   "version": "1.10.4"
  }
 },
 "nbformat": 4,
 "nbformat_minor": 5
}
