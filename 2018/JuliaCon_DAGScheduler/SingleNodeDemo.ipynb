{
 "cells": [
  {
   "cell_type": "code",
   "execution_count": null,
   "metadata": {},
   "outputs": [],
   "source": [
    "# add 5 executor processes, master is the driver\n",
    "addprocs(5);"
   ]
  },
  {
   "cell_type": "code",
   "execution_count": null,
   "metadata": {},
   "outputs": [],
   "source": [
    "include(\"../test/daggen.jl\") # helper functions for generating DAGs\n",
    "\n",
    "using DagScheduler           # load DagScheduler\n",
    "using GraphViz               # for visualizing DAGs\n",
    "using Base.Test\n",
    "\n",
    "# cleanup any stale leftover files\n",
    "isdir(\".mempool\") && rm(\".mempool\"; recursive=true);"
   ]
  },
  {
   "cell_type": "code",
   "execution_count": null,
   "metadata": {},
   "outputs": [],
   "source": [
    "# set some options (needed for large DAGs)\n",
    "@everywhere begin\n",
    "    # these are only for Shared Memory Metadata store\n",
    "    DagScheduler.META_IMPL[:map_num_entries] = 1024*100\n",
    "    DagScheduler.META_IMPL[:map_entry_sz] = 1512\n",
    "end\n",
    "\n",
    "# create a runenv and plug it into Dagger\n",
    "runenv = DagScheduler.Plugin.setrunenv(RunEnv())"
   ]
  },
  {
   "cell_type": "code",
   "execution_count": null,
   "metadata": {},
   "outputs": [],
   "source": [
    "# deep DAG: depth to which dags are stacked is large\n",
    "dag1 = gen_straight_dag(ones(Int, 6^4))\n",
    "Graph(Dagger.show_plan(dag1))"
   ]
  },
  {
   "cell_type": "code",
   "execution_count": null,
   "metadata": {},
   "outputs": [],
   "source": [
    "result = collect(rundag(runenv, dag1))\n",
    "@test result == 1"
   ]
  },
  {
   "cell_type": "code",
   "execution_count": null,
   "metadata": {},
   "outputs": [],
   "source": [
    "DagScheduler.print_stats(runenv)"
   ]
  },
  {
   "cell_type": "code",
   "execution_count": null,
   "metadata": {},
   "outputs": [],
   "source": [
    "# cross connected DAG: output consumed by multiple nodes upstream\n",
    "dag3 = gen_cross_dag()\n",
    "Graph(Dagger.show_plan(dag3))"
   ]
  },
  {
   "cell_type": "code",
   "execution_count": null,
   "metadata": {},
   "outputs": [],
   "source": [
    "result = collect(rundag(runenv, dag3))\n",
    "@test result == 84"
   ]
  },
  {
   "cell_type": "code",
   "execution_count": null,
   "metadata": {},
   "outputs": [],
   "source": [
    "DagScheduler.print_stats(runenv)"
   ]
  },
  {
   "cell_type": "code",
   "execution_count": null,
   "metadata": {},
   "outputs": [],
   "source": [
    "# array sorting\n",
    "L = 10^6\n",
    "dag2 = gen_sort_dag(L, 40, 4, 1)\n",
    "Graph(Dagger.show_plan(dag2))"
   ]
  },
  {
   "cell_type": "code",
   "execution_count": null,
   "metadata": {},
   "outputs": [],
   "source": [
    "result = collect(rundag(runenv, dag2))\n",
    "@test issorted(result)"
   ]
  },
  {
   "cell_type": "code",
   "execution_count": null,
   "metadata": {},
   "outputs": [],
   "source": [
    "# cleanup MemPool remnants (reference counting doesn't work fully yet)\n",
    "@everywhere MemPool.cleanup()\n",
    "DagScheduler.print_stats(runenv)"
   ]
  },
  {
   "cell_type": "code",
   "execution_count": null,
   "metadata": {},
   "outputs": [],
   "source": [
    "# sorting with distributed output\n",
    "dag4 = gen_sort_dag(L, 40, 4, 40)\n",
    "Graph(Dagger.show_plan(dag4))"
   ]
  },
  {
   "cell_type": "code",
   "execution_count": null,
   "metadata": {},
   "outputs": [],
   "source": [
    "DagScheduler.dref_to_fref!(dag4) # (optional) use file refs instead, for faster inter-process IO\n",
    "result = collect(rundag(runenv, dag4))"
   ]
  },
  {
   "cell_type": "code",
   "execution_count": null,
   "metadata": {},
   "outputs": [],
   "source": [
    "# concatenate and test if it is sorted\n",
    "fullresult = collect(Dagger.treereduce(delayed(vcat), result))\n",
    "@test issorted(fullresult)"
   ]
  },
  {
   "cell_type": "code",
   "execution_count": null,
   "metadata": {},
   "outputs": [],
   "source": [
    "# cleanup MemPool remnants (reference counting doesn't work fully yet)\n",
    "@everywhere MemPool.cleanup()\n",
    "DagScheduler.print_stats(runenv)"
   ]
  },
  {
   "cell_type": "code",
   "execution_count": null,
   "metadata": {},
   "outputs": [],
   "source": [
    "# cleanup everything\n",
    "DagScheduler.cleanup(runenv)\n",
    "isdir(\".mempool\") && rm(\".mempool\"; recursive=true)"
   ]
  },
  {
   "cell_type": "code",
   "execution_count": null,
   "metadata": {},
   "outputs": [],
   "source": []
  }
 ],
 "metadata": {
  "kernelspec": {
   "display_name": "Julia 0.6.2",
   "language": "julia",
   "name": "julia-0.6"
  },
  "language_info": {
   "file_extension": ".jl",
   "mimetype": "application/julia",
   "name": "julia",
   "version": "0.6.2"
  }
 },
 "nbformat": 4,
 "nbformat_minor": 2
}
